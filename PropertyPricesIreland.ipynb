{
  "nbformat": 4,
  "nbformat_minor": 0,
  "metadata": {
    "colab": {
      "provenance": [],
      "authorship_tag": "ABX9TyN3AZtE8LtzpmzmYJ/QV+x0",
      "include_colab_link": true
    },
    "kernelspec": {
      "name": "python3",
      "display_name": "Python 3"
    },
    "language_info": {
      "name": "python"
    }
  },
  "cells": [
    {
      "cell_type": "markdown",
      "metadata": {
        "id": "view-in-github",
        "colab_type": "text"
      },
      "source": [
        "<a href=\"https://colab.research.google.com/github/thmswhelan/UCDPA_ThomasWhelan/blob/main/PropertyPricesIreland.ipynb\" target=\"_parent\"><img src=\"https://colab.research.google.com/assets/colab-badge.svg\" alt=\"Open In Colab\"/></a>"
      ]
    },
    {
      "cell_type": "code",
      "source": [
        "import pandas as pd\n",
        "\n",
        "url = \"https://raw.githubusercontent.com/thmswhelan/UCDPA_ThomasWhelan/main/Property_Price_Register_Ireland-28-05-2021.csv\"\n",
        "\n",
        "df = pd.read_csv(url)"
      ],
      "metadata": {
        "id": "Njq2SVl0BXEw"
      },
      "execution_count": null,
      "outputs": []
    },
    {
      "cell_type": "code",
      "source": [
        "df.head()"
      ],
      "metadata": {
        "colab": {
          "base_uri": "https://localhost:8080/",
          "height": 337
        },
        "id": "zH092FyCCNqv",
        "outputId": "46648492-17c2-414f-8bc8-1a3bde9aeec4"
      },
      "execution_count": null,
      "outputs": [
        {
          "output_type": "execute_result",
          "data": {
            "text/plain": [
              "    SALE_DATE                                         ADDRESS POSTAL_CODE  \\\n",
              "0  2010-01-01          5 Braemor Drive, Churchtown, Co.Dublin         NaN   \n",
              "1  2010-01-03  134 Ashewood Walk, Summerhill Lane, Portlaoise         NaN   \n",
              "2  2010-01-04             1 Meadow Avenue, Dundrum, Dublin 14         NaN   \n",
              "3  2010-01-04                         1 The Haven, Mornington         NaN   \n",
              "4  2010-01-04                   11 Melville Heights, Kilkenny         NaN   \n",
              "\n",
              "     COUNTY  SALE_PRICE  IF_MARKET_PRICE  IF_VAT_EXCLUDED  \\\n",
              "0    Dublin    343000.0                0                0   \n",
              "1     Laois    185000.0                0                1   \n",
              "2    Dublin    438500.0                0                0   \n",
              "3     Meath    400000.0                0                0   \n",
              "4  Kilkenny    160000.0                0                0   \n",
              "\n",
              "                           PROPERTY_DESC  \\\n",
              "0  Second-Hand Dwelling house /Apartment   \n",
              "1          New Dwelling house /Apartment   \n",
              "2  Second-Hand Dwelling house /Apartment   \n",
              "3  Second-Hand Dwelling house /Apartment   \n",
              "4  Second-Hand Dwelling house /Apartment   \n",
              "\n",
              "                                  PROPERTY_SIZE_DESC  \n",
              "0                                                NaN  \n",
              "1  greater than or equal to 38 sq metres and less...  \n",
              "2                                                NaN  \n",
              "3                                                NaN  \n",
              "4                                                NaN  "
            ],
            "text/html": [
              "\n",
              "  <div id=\"df-70dd4b96-a4c0-40b1-9c29-9e21e8836723\">\n",
              "    <div class=\"colab-df-container\">\n",
              "      <div>\n",
              "<style scoped>\n",
              "    .dataframe tbody tr th:only-of-type {\n",
              "        vertical-align: middle;\n",
              "    }\n",
              "\n",
              "    .dataframe tbody tr th {\n",
              "        vertical-align: top;\n",
              "    }\n",
              "\n",
              "    .dataframe thead th {\n",
              "        text-align: right;\n",
              "    }\n",
              "</style>\n",
              "<table border=\"1\" class=\"dataframe\">\n",
              "  <thead>\n",
              "    <tr style=\"text-align: right;\">\n",
              "      <th></th>\n",
              "      <th>SALE_DATE</th>\n",
              "      <th>ADDRESS</th>\n",
              "      <th>POSTAL_CODE</th>\n",
              "      <th>COUNTY</th>\n",
              "      <th>SALE_PRICE</th>\n",
              "      <th>IF_MARKET_PRICE</th>\n",
              "      <th>IF_VAT_EXCLUDED</th>\n",
              "      <th>PROPERTY_DESC</th>\n",
              "      <th>PROPERTY_SIZE_DESC</th>\n",
              "    </tr>\n",
              "  </thead>\n",
              "  <tbody>\n",
              "    <tr>\n",
              "      <th>0</th>\n",
              "      <td>2010-01-01</td>\n",
              "      <td>5 Braemor Drive, Churchtown, Co.Dublin</td>\n",
              "      <td>NaN</td>\n",
              "      <td>Dublin</td>\n",
              "      <td>343000.0</td>\n",
              "      <td>0</td>\n",
              "      <td>0</td>\n",
              "      <td>Second-Hand Dwelling house /Apartment</td>\n",
              "      <td>NaN</td>\n",
              "    </tr>\n",
              "    <tr>\n",
              "      <th>1</th>\n",
              "      <td>2010-01-03</td>\n",
              "      <td>134 Ashewood Walk, Summerhill Lane, Portlaoise</td>\n",
              "      <td>NaN</td>\n",
              "      <td>Laois</td>\n",
              "      <td>185000.0</td>\n",
              "      <td>0</td>\n",
              "      <td>1</td>\n",
              "      <td>New Dwelling house /Apartment</td>\n",
              "      <td>greater than or equal to 38 sq metres and less...</td>\n",
              "    </tr>\n",
              "    <tr>\n",
              "      <th>2</th>\n",
              "      <td>2010-01-04</td>\n",
              "      <td>1 Meadow Avenue, Dundrum, Dublin 14</td>\n",
              "      <td>NaN</td>\n",
              "      <td>Dublin</td>\n",
              "      <td>438500.0</td>\n",
              "      <td>0</td>\n",
              "      <td>0</td>\n",
              "      <td>Second-Hand Dwelling house /Apartment</td>\n",
              "      <td>NaN</td>\n",
              "    </tr>\n",
              "    <tr>\n",
              "      <th>3</th>\n",
              "      <td>2010-01-04</td>\n",
              "      <td>1 The Haven, Mornington</td>\n",
              "      <td>NaN</td>\n",
              "      <td>Meath</td>\n",
              "      <td>400000.0</td>\n",
              "      <td>0</td>\n",
              "      <td>0</td>\n",
              "      <td>Second-Hand Dwelling house /Apartment</td>\n",
              "      <td>NaN</td>\n",
              "    </tr>\n",
              "    <tr>\n",
              "      <th>4</th>\n",
              "      <td>2010-01-04</td>\n",
              "      <td>11 Melville Heights, Kilkenny</td>\n",
              "      <td>NaN</td>\n",
              "      <td>Kilkenny</td>\n",
              "      <td>160000.0</td>\n",
              "      <td>0</td>\n",
              "      <td>0</td>\n",
              "      <td>Second-Hand Dwelling house /Apartment</td>\n",
              "      <td>NaN</td>\n",
              "    </tr>\n",
              "  </tbody>\n",
              "</table>\n",
              "</div>\n",
              "      <button class=\"colab-df-convert\" onclick=\"convertToInteractive('df-70dd4b96-a4c0-40b1-9c29-9e21e8836723')\"\n",
              "              title=\"Convert this dataframe to an interactive table.\"\n",
              "              style=\"display:none;\">\n",
              "        \n",
              "  <svg xmlns=\"http://www.w3.org/2000/svg\" height=\"24px\"viewBox=\"0 0 24 24\"\n",
              "       width=\"24px\">\n",
              "    <path d=\"M0 0h24v24H0V0z\" fill=\"none\"/>\n",
              "    <path d=\"M18.56 5.44l.94 2.06.94-2.06 2.06-.94-2.06-.94-.94-2.06-.94 2.06-2.06.94zm-11 1L8.5 8.5l.94-2.06 2.06-.94-2.06-.94L8.5 2.5l-.94 2.06-2.06.94zm10 10l.94 2.06.94-2.06 2.06-.94-2.06-.94-.94-2.06-.94 2.06-2.06.94z\"/><path d=\"M17.41 7.96l-1.37-1.37c-.4-.4-.92-.59-1.43-.59-.52 0-1.04.2-1.43.59L10.3 9.45l-7.72 7.72c-.78.78-.78 2.05 0 2.83L4 21.41c.39.39.9.59 1.41.59.51 0 1.02-.2 1.41-.59l7.78-7.78 2.81-2.81c.8-.78.8-2.07 0-2.86zM5.41 20L4 18.59l7.72-7.72 1.47 1.35L5.41 20z\"/>\n",
              "  </svg>\n",
              "      </button>\n",
              "      \n",
              "  <style>\n",
              "    .colab-df-container {\n",
              "      display:flex;\n",
              "      flex-wrap:wrap;\n",
              "      gap: 12px;\n",
              "    }\n",
              "\n",
              "    .colab-df-convert {\n",
              "      background-color: #E8F0FE;\n",
              "      border: none;\n",
              "      border-radius: 50%;\n",
              "      cursor: pointer;\n",
              "      display: none;\n",
              "      fill: #1967D2;\n",
              "      height: 32px;\n",
              "      padding: 0 0 0 0;\n",
              "      width: 32px;\n",
              "    }\n",
              "\n",
              "    .colab-df-convert:hover {\n",
              "      background-color: #E2EBFA;\n",
              "      box-shadow: 0px 1px 2px rgba(60, 64, 67, 0.3), 0px 1px 3px 1px rgba(60, 64, 67, 0.15);\n",
              "      fill: #174EA6;\n",
              "    }\n",
              "\n",
              "    [theme=dark] .colab-df-convert {\n",
              "      background-color: #3B4455;\n",
              "      fill: #D2E3FC;\n",
              "    }\n",
              "\n",
              "    [theme=dark] .colab-df-convert:hover {\n",
              "      background-color: #434B5C;\n",
              "      box-shadow: 0px 1px 3px 1px rgba(0, 0, 0, 0.15);\n",
              "      filter: drop-shadow(0px 1px 2px rgba(0, 0, 0, 0.3));\n",
              "      fill: #FFFFFF;\n",
              "    }\n",
              "  </style>\n",
              "\n",
              "      <script>\n",
              "        const buttonEl =\n",
              "          document.querySelector('#df-70dd4b96-a4c0-40b1-9c29-9e21e8836723 button.colab-df-convert');\n",
              "        buttonEl.style.display =\n",
              "          google.colab.kernel.accessAllowed ? 'block' : 'none';\n",
              "\n",
              "        async function convertToInteractive(key) {\n",
              "          const element = document.querySelector('#df-70dd4b96-a4c0-40b1-9c29-9e21e8836723');\n",
              "          const dataTable =\n",
              "            await google.colab.kernel.invokeFunction('convertToInteractive',\n",
              "                                                     [key], {});\n",
              "          if (!dataTable) return;\n",
              "\n",
              "          const docLinkHtml = 'Like what you see? Visit the ' +\n",
              "            '<a target=\"_blank\" href=https://colab.research.google.com/notebooks/data_table.ipynb>data table notebook</a>'\n",
              "            + ' to learn more about interactive tables.';\n",
              "          element.innerHTML = '';\n",
              "          dataTable['output_type'] = 'display_data';\n",
              "          await google.colab.output.renderOutput(dataTable, element);\n",
              "          const docLink = document.createElement('div');\n",
              "          docLink.innerHTML = docLinkHtml;\n",
              "          element.appendChild(docLink);\n",
              "        }\n",
              "      </script>\n",
              "    </div>\n",
              "  </div>\n",
              "  "
            ]
          },
          "metadata": {},
          "execution_count": 2
        }
      ]
    },
    {
      "cell_type": "code",
      "source": [
        "import numpy as np\n",
        "import datetime\n",
        "import matplotlib.pyplot as plt"
      ],
      "metadata": {
        "id": "L-md8zMRyQ6r"
      },
      "execution_count": 37,
      "outputs": []
    },
    {
      "cell_type": "code",
      "source": [
        "df.dtypes"
      ],
      "metadata": {
        "id": "52awkk5vyajU",
        "outputId": "12d328ab-89db-451c-8338-a806a6f66a58",
        "colab": {
          "base_uri": "https://localhost:8080/"
        }
      },
      "execution_count": 40,
      "outputs": [
        {
          "output_type": "execute_result",
          "data": {
            "text/plain": [
              "SALE_DATE             datetime64[ns]\n",
              "ADDRESS                       object\n",
              "POSTAL_CODE                   object\n",
              "COUNTY                        object\n",
              "SALE_PRICE                   float64\n",
              "IF_MARKET_PRICE                int64\n",
              "IF_VAT_EXCLUDED                int64\n",
              "PROPERTY_DESC                 object\n",
              "PROPERTY_SIZE_DESC            object\n",
              "year                           int64\n",
              "dtype: object"
            ]
          },
          "metadata": {},
          "execution_count": 40
        }
      ]
    },
    {
      "cell_type": "code",
      "source": [
        "df['year'] = df['SALE_DATE'].dt.year\n",
        "df.dtypes"
      ],
      "metadata": {
        "id": "HR0XB6mEymQu",
        "outputId": "8352de23-52e7-41fb-c7fe-0e85ef0efa9b",
        "colab": {
          "base_uri": "https://localhost:8080/"
        }
      },
      "execution_count": 41,
      "outputs": [
        {
          "output_type": "execute_result",
          "data": {
            "text/plain": [
              "SALE_DATE             datetime64[ns]\n",
              "ADDRESS                       object\n",
              "POSTAL_CODE                   object\n",
              "COUNTY                        object\n",
              "SALE_PRICE                   float64\n",
              "IF_MARKET_PRICE                int64\n",
              "IF_VAT_EXCLUDED                int64\n",
              "PROPERTY_DESC                 object\n",
              "PROPERTY_SIZE_DESC            object\n",
              "year                           int64\n",
              "dtype: object"
            ]
          },
          "metadata": {},
          "execution_count": 41
        }
      ]
    },
    {
      "cell_type": "code",
      "source": [
        "df.describe()"
      ],
      "metadata": {
        "id": "cQ5yZiE0y5KR",
        "outputId": "bacdb6b3-e9d2-41c9-e2b9-97e8f2d24994",
        "colab": {
          "base_uri": "https://localhost:8080/",
          "height": 300
        }
      },
      "execution_count": 42,
      "outputs": [
        {
          "output_type": "execute_result",
          "data": {
            "text/plain": [
              "         SALE_PRICE  IF_MARKET_PRICE  IF_VAT_EXCLUDED           year\n",
              "count  4.767450e+05    476745.000000    476745.000000  476745.000000\n",
              "mean   2.590403e+05         0.048984         0.159618    2016.191037\n",
              "std    8.526791e+05         0.215835         0.366252       2.958550\n",
              "min    5.030530e+03         0.000000         0.000000    2010.000000\n",
              "25%    1.150000e+05         0.000000         0.000000    2014.000000\n",
              "50%    1.950000e+05         0.000000         0.000000    2017.000000\n",
              "75%    3.000000e+05         0.000000         0.000000    2019.000000\n",
              "max    1.701428e+08         1.000000         1.000000    2021.000000"
            ],
            "text/html": [
              "\n",
              "  <div id=\"df-eb29f2aa-dfc5-4ad2-b38c-d845bb6cd057\">\n",
              "    <div class=\"colab-df-container\">\n",
              "      <div>\n",
              "<style scoped>\n",
              "    .dataframe tbody tr th:only-of-type {\n",
              "        vertical-align: middle;\n",
              "    }\n",
              "\n",
              "    .dataframe tbody tr th {\n",
              "        vertical-align: top;\n",
              "    }\n",
              "\n",
              "    .dataframe thead th {\n",
              "        text-align: right;\n",
              "    }\n",
              "</style>\n",
              "<table border=\"1\" class=\"dataframe\">\n",
              "  <thead>\n",
              "    <tr style=\"text-align: right;\">\n",
              "      <th></th>\n",
              "      <th>SALE_PRICE</th>\n",
              "      <th>IF_MARKET_PRICE</th>\n",
              "      <th>IF_VAT_EXCLUDED</th>\n",
              "      <th>year</th>\n",
              "    </tr>\n",
              "  </thead>\n",
              "  <tbody>\n",
              "    <tr>\n",
              "      <th>count</th>\n",
              "      <td>4.767450e+05</td>\n",
              "      <td>476745.000000</td>\n",
              "      <td>476745.000000</td>\n",
              "      <td>476745.000000</td>\n",
              "    </tr>\n",
              "    <tr>\n",
              "      <th>mean</th>\n",
              "      <td>2.590403e+05</td>\n",
              "      <td>0.048984</td>\n",
              "      <td>0.159618</td>\n",
              "      <td>2016.191037</td>\n",
              "    </tr>\n",
              "    <tr>\n",
              "      <th>std</th>\n",
              "      <td>8.526791e+05</td>\n",
              "      <td>0.215835</td>\n",
              "      <td>0.366252</td>\n",
              "      <td>2.958550</td>\n",
              "    </tr>\n",
              "    <tr>\n",
              "      <th>min</th>\n",
              "      <td>5.030530e+03</td>\n",
              "      <td>0.000000</td>\n",
              "      <td>0.000000</td>\n",
              "      <td>2010.000000</td>\n",
              "    </tr>\n",
              "    <tr>\n",
              "      <th>25%</th>\n",
              "      <td>1.150000e+05</td>\n",
              "      <td>0.000000</td>\n",
              "      <td>0.000000</td>\n",
              "      <td>2014.000000</td>\n",
              "    </tr>\n",
              "    <tr>\n",
              "      <th>50%</th>\n",
              "      <td>1.950000e+05</td>\n",
              "      <td>0.000000</td>\n",
              "      <td>0.000000</td>\n",
              "      <td>2017.000000</td>\n",
              "    </tr>\n",
              "    <tr>\n",
              "      <th>75%</th>\n",
              "      <td>3.000000e+05</td>\n",
              "      <td>0.000000</td>\n",
              "      <td>0.000000</td>\n",
              "      <td>2019.000000</td>\n",
              "    </tr>\n",
              "    <tr>\n",
              "      <th>max</th>\n",
              "      <td>1.701428e+08</td>\n",
              "      <td>1.000000</td>\n",
              "      <td>1.000000</td>\n",
              "      <td>2021.000000</td>\n",
              "    </tr>\n",
              "  </tbody>\n",
              "</table>\n",
              "</div>\n",
              "      <button class=\"colab-df-convert\" onclick=\"convertToInteractive('df-eb29f2aa-dfc5-4ad2-b38c-d845bb6cd057')\"\n",
              "              title=\"Convert this dataframe to an interactive table.\"\n",
              "              style=\"display:none;\">\n",
              "        \n",
              "  <svg xmlns=\"http://www.w3.org/2000/svg\" height=\"24px\"viewBox=\"0 0 24 24\"\n",
              "       width=\"24px\">\n",
              "    <path d=\"M0 0h24v24H0V0z\" fill=\"none\"/>\n",
              "    <path d=\"M18.56 5.44l.94 2.06.94-2.06 2.06-.94-2.06-.94-.94-2.06-.94 2.06-2.06.94zm-11 1L8.5 8.5l.94-2.06 2.06-.94-2.06-.94L8.5 2.5l-.94 2.06-2.06.94zm10 10l.94 2.06.94-2.06 2.06-.94-2.06-.94-.94-2.06-.94 2.06-2.06.94z\"/><path d=\"M17.41 7.96l-1.37-1.37c-.4-.4-.92-.59-1.43-.59-.52 0-1.04.2-1.43.59L10.3 9.45l-7.72 7.72c-.78.78-.78 2.05 0 2.83L4 21.41c.39.39.9.59 1.41.59.51 0 1.02-.2 1.41-.59l7.78-7.78 2.81-2.81c.8-.78.8-2.07 0-2.86zM5.41 20L4 18.59l7.72-7.72 1.47 1.35L5.41 20z\"/>\n",
              "  </svg>\n",
              "      </button>\n",
              "      \n",
              "  <style>\n",
              "    .colab-df-container {\n",
              "      display:flex;\n",
              "      flex-wrap:wrap;\n",
              "      gap: 12px;\n",
              "    }\n",
              "\n",
              "    .colab-df-convert {\n",
              "      background-color: #E8F0FE;\n",
              "      border: none;\n",
              "      border-radius: 50%;\n",
              "      cursor: pointer;\n",
              "      display: none;\n",
              "      fill: #1967D2;\n",
              "      height: 32px;\n",
              "      padding: 0 0 0 0;\n",
              "      width: 32px;\n",
              "    }\n",
              "\n",
              "    .colab-df-convert:hover {\n",
              "      background-color: #E2EBFA;\n",
              "      box-shadow: 0px 1px 2px rgba(60, 64, 67, 0.3), 0px 1px 3px 1px rgba(60, 64, 67, 0.15);\n",
              "      fill: #174EA6;\n",
              "    }\n",
              "\n",
              "    [theme=dark] .colab-df-convert {\n",
              "      background-color: #3B4455;\n",
              "      fill: #D2E3FC;\n",
              "    }\n",
              "\n",
              "    [theme=dark] .colab-df-convert:hover {\n",
              "      background-color: #434B5C;\n",
              "      box-shadow: 0px 1px 3px 1px rgba(0, 0, 0, 0.15);\n",
              "      filter: drop-shadow(0px 1px 2px rgba(0, 0, 0, 0.3));\n",
              "      fill: #FFFFFF;\n",
              "    }\n",
              "  </style>\n",
              "\n",
              "      <script>\n",
              "        const buttonEl =\n",
              "          document.querySelector('#df-eb29f2aa-dfc5-4ad2-b38c-d845bb6cd057 button.colab-df-convert');\n",
              "        buttonEl.style.display =\n",
              "          google.colab.kernel.accessAllowed ? 'block' : 'none';\n",
              "\n",
              "        async function convertToInteractive(key) {\n",
              "          const element = document.querySelector('#df-eb29f2aa-dfc5-4ad2-b38c-d845bb6cd057');\n",
              "          const dataTable =\n",
              "            await google.colab.kernel.invokeFunction('convertToInteractive',\n",
              "                                                     [key], {});\n",
              "          if (!dataTable) return;\n",
              "\n",
              "          const docLinkHtml = 'Like what you see? Visit the ' +\n",
              "            '<a target=\"_blank\" href=https://colab.research.google.com/notebooks/data_table.ipynb>data table notebook</a>'\n",
              "            + ' to learn more about interactive tables.';\n",
              "          element.innerHTML = '';\n",
              "          dataTable['output_type'] = 'display_data';\n",
              "          await google.colab.output.renderOutput(dataTable, element);\n",
              "          const docLink = document.createElement('div');\n",
              "          docLink.innerHTML = docLinkHtml;\n",
              "          element.appendChild(docLink);\n",
              "        }\n",
              "      </script>\n",
              "    </div>\n",
              "  </div>\n",
              "  "
            ]
          },
          "metadata": {},
          "execution_count": 42
        }
      ]
    },
    {
      "cell_type": "code",
      "source": [
        "df.value_counts()"
      ],
      "metadata": {
        "id": "DM6K503OzX1u",
        "outputId": "266b639f-2f0c-4224-d055-30b2be8282c9",
        "colab": {
          "base_uri": "https://localhost:8080/"
        }
      },
      "execution_count": 43,
      "outputs": [
        {
          "output_type": "execute_result",
          "data": {
            "text/plain": [
              "SALE_DATE   ADDRESS                                                   POSTAL_CODE  COUNTY  SALE_PRICE  IF_MARKET_PRICE  IF_VAT_EXCLUDED  PROPERTY_DESC                  PROPERTY_SIZE_DESC                                                 year\n",
              "2013-12-20  2 Phoenix Park Way, Phoenix Park Racecourse, Castleknock  Dublin 15    Dublin  8000.00     0                1                New Dwelling house /Apartment  greater than or equal to 38 sq metres and less than 125 sq metres  2013    4\n",
              "2013-11-20  Apt. 9 Red Arches Park, The Coast, Baldoyle               Dublin 13    Dublin  127753.30   0                1                New Dwelling house /Apartment  greater than or equal to 38 sq metres and less than 125 sq metres  2013    3\n",
              "2013-12-20  77 Rosanule, Phoenix Park Racecourse, Castleknock         Dublin 15    Dublin  8000.00     0                1                New Dwelling house /Apartment  greater than or equal to 38 sq metres and less than 125 sq metres  2013    3\n",
              "            4 Surehaven Road, Phoenix Park Racecourse, Castleknock    Dublin 15    Dublin  8000.00     0                1                New Dwelling house /Apartment  greater than or equal to 38 sq metres and less than 125 sq metres  2013    2\n",
              "            30 Rosanule, Phoenix Park Racecourse, Castleknock         Dublin 15    Dublin  8000.00     0                1                New Dwelling house /Apartment  greater than or equal to 38 sq metres and less than 125 sq metres  2013    2\n",
              "                                                                                                                                                                                                                                                  ..\n",
              "2015-06-15  Apt 344 Block 8B, Tallaght Cross West, Dublin 24          Dublin 24    Dublin  95278.47    0                1                New Dwelling house /Apartment  greater than or equal to 38 sq metres and less than 125 sq metres  2015    1\n",
              "            Apt 343 Block 8B, Tallaght Cross West, Dublin 24          Dublin 24    Dublin  95278.47    0                1                New Dwelling house /Apartment  greater than or equal to 38 sq metres and less than 125 sq metres  2015    1\n",
              "            Apt 342 Block 8B, Tallaght Cross West, Dublin 24          Dublin 24    Dublin  115989.86   0                1                New Dwelling house /Apartment  greater than or equal to 38 sq metres and less than 125 sq metres  2015    1\n",
              "            Apt 341 Block 8B, Tallaght Cross West, Dublin 24          Dublin 24    Dublin  95278.47    0                1                New Dwelling house /Apartment  greater than or equal to 38 sq metres and less than 125 sq metres  2015    1\n",
              "2020-06-17  Apartment 1  Block 14, New Priory, Hole in the Wall Road  Dublin 13    Dublin  240000.00   0                1                New Dwelling house /Apartment  less than 38 sq metres                                             2020    1\n",
              "Length: 7806, dtype: int64"
            ]
          },
          "metadata": {},
          "execution_count": 43
        }
      ]
    },
    {
      "cell_type": "code",
      "source": [
        "np.mean(df['SALE_PRICE'])"
      ],
      "metadata": {
        "id": "B_VYNbX7znTl",
        "outputId": "8257083a-5c35-4ac0-f6af-08364fbb6733",
        "colab": {
          "base_uri": "https://localhost:8080/"
        }
      },
      "execution_count": 44,
      "outputs": [
        {
          "output_type": "execute_result",
          "data": {
            "text/plain": [
              "259040.30628275065"
            ]
          },
          "metadata": {},
          "execution_count": 44
        }
      ]
    },
    {
      "cell_type": "code",
      "source": [
        "year_prices = df.groupby('year')"
      ],
      "metadata": {
        "id": "5zCywY6Xzx-Z"
      },
      "execution_count": 45,
      "outputs": []
    },
    {
      "cell_type": "code",
      "source": [
        "mean_year_prices = year_prices['SALE_PRICE'].mean()\n",
        "print(mean_year_prices)"
      ],
      "metadata": {
        "id": "vghr8tTc0aur",
        "outputId": "d648ed8f-b4d2-426e-ffc4-819ba939593a",
        "colab": {
          "base_uri": "https://localhost:8080/"
        }
      },
      "execution_count": 51,
      "outputs": [
        {
          "output_type": "stream",
          "name": "stdout",
          "text": [
            "year\n",
            "2010    242987.415896\n",
            "2011    214662.591054\n",
            "2012    193527.424412\n",
            "2013    204077.028227\n",
            "2014    214639.754720\n",
            "2015    220156.800028\n",
            "2016    244710.930623\n",
            "2017    265842.958488\n",
            "2018    294013.632416\n",
            "2019    306995.242014\n",
            "2020    313272.736809\n",
            "2021    320785.455816\n",
            "Name: SALE_PRICE, dtype: float64\n"
          ]
        }
      ]
    },
    {
      "cell_type": "code",
      "source": [
        "plt.plot(mean_year_prices.index, mean_year_prices.values)\n",
        "plt.xlabel('Year')\n",
        "plt.ylabel('Mean House Price')\n",
        "plt.title('Mean House Price Per Year')\n",
        "plt.show()"
      ],
      "metadata": {
        "id": "tmWMD-Cw9NhI",
        "outputId": "2fe96e51-4c0f-4855-c22a-2d66b6d89995",
        "colab": {
          "base_uri": "https://localhost:8080/",
          "height": 472
        }
      },
      "execution_count": 54,
      "outputs": [
        {
          "output_type": "display_data",
          "data": {
            "text/plain": [
              "<Figure size 640x480 with 1 Axes>"
            ],
            "image/png": "[encoded data removed]"
          },
          "metadata": {}
        }
      ]
    }
  ]
}