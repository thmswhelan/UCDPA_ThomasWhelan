{
  "nbformat": 4,
  "nbformat_minor": 0,
  "metadata": {
    "colab": {
      "provenance": [],
      "authorship_tag": "ABX9TyPHy8QvQldYaTFwyaIWj1TG",
      "include_colab_link": true
    },
    "kernelspec": {
      "name": "python3",
      "display_name": "Python 3"
    },
    "language_info": {
      "name": "python"
    }
  },
  "cells": [
    {
      "cell_type": "markdown",
      "metadata": {
        "id": "view-in-github",
        "colab_type": "text"
      },
      "source": [
        "<a href=\"https://colab.research.google.com/github/thmswhelan/UCDPA_ThomasWhelan/blob/main/PropertyPricesIreland.ipynb\" target=\"_parent\"><img src=\"https://colab.research.google.com/assets/colab-badge.svg\" alt=\"Open In Colab\"/></a>"
      ]
    },
    {
      "cell_type": "code",
      "source": [
        "pip install requests beautifulsoup4"
      ],
      "metadata": {
        "colab": {
          "base_uri": "https://localhost:8080/"
        },
        "id": "jmqpSRsovwwY",
        "outputId": "55d12bda-3631-4faf-ab86-44a17577283c"
      },
      "execution_count": 674,
      "outputs": [
        {
          "output_type": "stream",
          "name": "stdout",
          "text": [
            "Requirement already satisfied: requests in /usr/local/lib/python3.10/dist-packages (2.31.0)\n",
            "Requirement already satisfied: beautifulsoup4 in /usr/local/lib/python3.10/dist-packages (4.11.2)\n",
            "Requirement already satisfied: charset-normalizer<4,>=2 in /usr/local/lib/python3.10/dist-packages (from requests) (3.2.0)\n",
            "Requirement already satisfied: idna<4,>=2.5 in /usr/local/lib/python3.10/dist-packages (from requests) (3.4)\n",
            "Requirement already satisfied: urllib3<3,>=1.21.1 in /usr/local/lib/python3.10/dist-packages (from requests) (2.0.4)\n",
            "Requirement already satisfied: certifi>=2017.4.17 in /usr/local/lib/python3.10/dist-packages (from requests) (2023.7.22)\n",
            "Requirement already satisfied: soupsieve>1.2 in /usr/local/lib/python3.10/dist-packages (from beautifulsoup4) (2.4.1)\n"
          ]
        }
      ]
    },
    {
      "cell_type": "code",
      "source": [
        "import pandas as pd\n",
        "import numpy as np\n",
        "import datetime\n",
        "import requests\n",
        "import matplotlib.pyplot as plt\n",
        "\n",
        "url = \"https://raw.githubusercontent.com/thmswhelan/UCDPA_ThomasWhelan/main/Property_Price_Register_Ireland-28-05-2021.csv\"\n",
        "\n",
        "df_house = pd.read_csv(url)\n",
        "\n",
        "url2 = \"https://www.ecb.europa.eu/stats/policy_and_exchange_rates/key_ecb_interest_rates/html/index.en.html\"\n",
        "response = requests.get(url2)\n",
        "\n",
        "if response.status_code == 200:\n",
        "    page_content = response.content\n",
        "    dfs = pd.read_html(page_content)  # Returns a list of DataFrames from HTML tables\n",
        "    table_df = dfs[0]  # Assuming the first table is the one with the data\n",
        "    # You might need to adjust the index if the target table is at a different position.\n",
        "    print(\"Successful\")\n",
        "else:\n",
        "    print(\"Failed to fetch the web page.\")"
      ],
      "metadata": {
        "id": "Njq2SVl0BXEw",
        "colab": {
          "base_uri": "https://localhost:8080/"
        },
        "outputId": "4153743b-a42b-4e0c-da3e-7c7b523cc84e"
      },
      "execution_count": 675,
      "outputs": [
        {
          "output_type": "stream",
          "name": "stdout",
          "text": [
            "Successful\n"
          ]
        }
      ]
    },
    {
      "cell_type": "code",
      "source": [
        "df_house[\"SALE_DATE\"] = pd.to_datetime(df_house[\"SALE_DATE\"])\n",
        "df_house.info()"
      ],
      "metadata": {
        "colab": {
          "base_uri": "https://localhost:8080/"
        },
        "id": "dL1kuCJZQzn0",
        "outputId": "62ecb754-db55-47f9-e0c8-cf71588c1d26"
      },
      "execution_count": 676,
      "outputs": [
        {
          "output_type": "stream",
          "name": "stdout",
          "text": [
            "<class 'pandas.core.frame.DataFrame'>\n",
            "RangeIndex: 476745 entries, 0 to 476744\n",
            "Data columns (total 9 columns):\n",
            " #   Column              Non-Null Count   Dtype         \n",
            "---  ------              --------------   -----         \n",
            " 0   SALE_DATE           476745 non-null  datetime64[ns]\n",
            " 1   ADDRESS             476745 non-null  object        \n",
            " 2   POSTAL_CODE         89764 non-null   object        \n",
            " 3   COUNTY              476745 non-null  object        \n",
            " 4   SALE_PRICE          476745 non-null  float64       \n",
            " 5   IF_MARKET_PRICE     476745 non-null  int64         \n",
            " 6   IF_VAT_EXCLUDED     476745 non-null  int64         \n",
            " 7   PROPERTY_DESC       476745 non-null  object        \n",
            " 8   PROPERTY_SIZE_DESC  52792 non-null   object        \n",
            "dtypes: datetime64[ns](1), float64(1), int64(2), object(5)\n",
            "memory usage: 32.7+ MB\n"
          ]
        }
      ]
    },
    {
      "cell_type": "code",
      "source": [
        "# Create a DataFrame from the provided data\n",
        "df = pd.DataFrame(table_df)\n",
        "df.head()"
      ],
      "metadata": {
        "colab": {
          "base_uri": "https://localhost:8080/",
          "height": 282
        },
        "id": "n3uHJrKnSydF",
        "outputId": "2bc94a92-1a48-4328-82a4-d35d2da83b95"
      },
      "execution_count": 677,
      "outputs": [
        {
          "output_type": "execute_result",
          "data": {
            "text/plain": [
              "  Date (with effect from)                      Deposit facility  \\\n",
              "       Unnamed: 0_level_1 Unnamed: 1_level_1 Unnamed: 2_level_1   \n",
              "0                    2023             2 Aug.               3.75   \n",
              "1                    2023            21 Jun.               3.50   \n",
              "2                    2023             10 May               3.25   \n",
              "3                    2023            22 Mar.               3.00   \n",
              "4                    2023             8 Feb.               2.50   \n",
              "\n",
              "    Main refinancing operations                                         \\\n",
              "  Fixed rate tenders Fixed rate Variable rate tenders Minimum bid rate   \n",
              "0                          4.25                                      -   \n",
              "1                          4.00                                      -   \n",
              "2                          3.75                                      -   \n",
              "3                          3.50                                      -   \n",
              "4                          3.00                                      -   \n",
              "\n",
              "  Marginal lending facility  \n",
              "         Unnamed: 5_level_1  \n",
              "0                      4.50  \n",
              "1                      4.25  \n",
              "2                      4.00  \n",
              "3                      3.75  \n",
              "4                      3.25  "
            ],
            "text/html": [
              "\n",
              "\n",
              "  <div id=\"df-cb191e88-56db-46f8-b029-86f02debe3b9\">\n",
              "    <div class=\"colab-df-container\">\n",
              "      <div>\n",
              "<style scoped>\n",
              "    .dataframe tbody tr th:only-of-type {\n",
              "        vertical-align: middle;\n",
              "    }\n",
              "\n",
              "    .dataframe tbody tr th {\n",
              "        vertical-align: top;\n",
              "    }\n",
              "\n",
              "    .dataframe thead tr th {\n",
              "        text-align: left;\n",
              "    }\n",
              "</style>\n",
              "<table border=\"1\" class=\"dataframe\">\n",
              "  <thead>\n",
              "    <tr>\n",
              "      <th></th>\n",
              "      <th colspan=\"2\" halign=\"left\">Date (with effect from)</th>\n",
              "      <th>Deposit facility</th>\n",
              "      <th colspan=\"2\" halign=\"left\">Main refinancing operations</th>\n",
              "      <th>Marginal lending facility</th>\n",
              "    </tr>\n",
              "    <tr>\n",
              "      <th></th>\n",
              "      <th>Unnamed: 0_level_1</th>\n",
              "      <th>Unnamed: 1_level_1</th>\n",
              "      <th>Unnamed: 2_level_1</th>\n",
              "      <th>Fixed rate tenders Fixed rate</th>\n",
              "      <th>Variable rate tenders Minimum bid rate</th>\n",
              "      <th>Unnamed: 5_level_1</th>\n",
              "    </tr>\n",
              "  </thead>\n",
              "  <tbody>\n",
              "    <tr>\n",
              "      <th>0</th>\n",
              "      <td>2023</td>\n",
              "      <td>2 Aug.</td>\n",
              "      <td>3.75</td>\n",
              "      <td>4.25</td>\n",
              "      <td>-</td>\n",
              "      <td>4.50</td>\n",
              "    </tr>\n",
              "    <tr>\n",
              "      <th>1</th>\n",
              "      <td>2023</td>\n",
              "      <td>21 Jun.</td>\n",
              "      <td>3.50</td>\n",
              "      <td>4.00</td>\n",
              "      <td>-</td>\n",
              "      <td>4.25</td>\n",
              "    </tr>\n",
              "    <tr>\n",
              "      <th>2</th>\n",
              "      <td>2023</td>\n",
              "      <td>10 May</td>\n",
              "      <td>3.25</td>\n",
              "      <td>3.75</td>\n",
              "      <td>-</td>\n",
              "      <td>4.00</td>\n",
              "    </tr>\n",
              "    <tr>\n",
              "      <th>3</th>\n",
              "      <td>2023</td>\n",
              "      <td>22 Mar.</td>\n",
              "      <td>3.00</td>\n",
              "      <td>3.50</td>\n",
              "      <td>-</td>\n",
              "      <td>3.75</td>\n",
              "    </tr>\n",
              "    <tr>\n",
              "      <th>4</th>\n",
              "      <td>2023</td>\n",
              "      <td>8 Feb.</td>\n",
              "      <td>2.50</td>\n",
              "      <td>3.00</td>\n",
              "      <td>-</td>\n",
              "      <td>3.25</td>\n",
              "    </tr>\n",
              "  </tbody>\n",
              "</table>\n",
              "</div>\n",
              "      <button class=\"colab-df-convert\" onclick=\"convertToInteractive('df-cb191e88-56db-46f8-b029-86f02debe3b9')\"\n",
              "              title=\"Convert this dataframe to an interactive table.\"\n",
              "              style=\"display:none;\">\n",
              "\n",
              "  <svg xmlns=\"http://www.w3.org/2000/svg\" height=\"24px\"viewBox=\"0 0 24 24\"\n",
              "       width=\"24px\">\n",
              "    <path d=\"M0 0h24v24H0V0z\" fill=\"none\"/>\n",
              "    <path d=\"M18.56 5.44l.94 2.06.94-2.06 2.06-.94-2.06-.94-.94-2.06-.94 2.06-2.06.94zm-11 1L8.5 8.5l.94-2.06 2.06-.94-2.06-.94L8.5 2.5l-.94 2.06-2.06.94zm10 10l.94 2.06.94-2.06 2.06-.94-2.06-.94-.94-2.06-.94 2.06-2.06.94z\"/><path d=\"M17.41 7.96l-1.37-1.37c-.4-.4-.92-.59-1.43-.59-.52 0-1.04.2-1.43.59L10.3 9.45l-7.72 7.72c-.78.78-.78 2.05 0 2.83L4 21.41c.39.39.9.59 1.41.59.51 0 1.02-.2 1.41-.59l7.78-7.78 2.81-2.81c.8-.78.8-2.07 0-2.86zM5.41 20L4 18.59l7.72-7.72 1.47 1.35L5.41 20z\"/>\n",
              "  </svg>\n",
              "      </button>\n",
              "\n",
              "\n",
              "\n",
              "    <div id=\"df-8b4960d3-d61b-4c98-b7e8-53dcc79f29a4\">\n",
              "      <button class=\"colab-df-quickchart\" onclick=\"quickchart('df-8b4960d3-d61b-4c98-b7e8-53dcc79f29a4')\"\n",
              "              title=\"Suggest charts.\"\n",
              "              style=\"display:none;\">\n",
              "\n",
              "<svg xmlns=\"http://www.w3.org/2000/svg\" height=\"24px\"viewBox=\"0 0 24 24\"\n",
              "     width=\"24px\">\n",
              "    <g>\n",
              "        <path d=\"M19 3H5c-1.1 0-2 .9-2 2v14c0 1.1.9 2 2 2h14c1.1 0 2-.9 2-2V5c0-1.1-.9-2-2-2zM9 17H7v-7h2v7zm4 0h-2V7h2v10zm4 0h-2v-4h2v4z\"/>\n",
              "    </g>\n",
              "</svg>\n",
              "      </button>\n",
              "    </div>\n",
              "\n",
              "<style>\n",
              "  .colab-df-quickchart {\n",
              "    background-color: #E8F0FE;\n",
              "    border: none;\n",
              "    border-radius: 50%;\n",
              "    cursor: pointer;\n",
              "    display: none;\n",
              "    fill: #1967D2;\n",
              "    height: 32px;\n",
              "    padding: 0 0 0 0;\n",
              "    width: 32px;\n",
              "  }\n",
              "\n",
              "  .colab-df-quickchart:hover {\n",
              "    background-color: #E2EBFA;\n",
              "    box-shadow: 0px 1px 2px rgba(60, 64, 67, 0.3), 0px 1px 3px 1px rgba(60, 64, 67, 0.15);\n",
              "    fill: #174EA6;\n",
              "  }\n",
              "\n",
              "  [theme=dark] .colab-df-quickchart {\n",
              "    background-color: #3B4455;\n",
              "    fill: #D2E3FC;\n",
              "  }\n",
              "\n",
              "  [theme=dark] .colab-df-quickchart:hover {\n",
              "    background-color: #434B5C;\n",
              "    box-shadow: 0px 1px 3px 1px rgba(0, 0, 0, 0.15);\n",
              "    filter: drop-shadow(0px 1px 2px rgba(0, 0, 0, 0.3));\n",
              "    fill: #FFFFFF;\n",
              "  }\n",
              "</style>\n",
              "\n",
              "    <script>\n",
              "      async function quickchart(key) {\n",
              "        const containerElement = document.querySelector('#' + key);\n",
              "        const charts = await google.colab.kernel.invokeFunction(\n",
              "            'suggestCharts', [key], {});\n",
              "      }\n",
              "    </script>\n",
              "\n",
              "      <script>\n",
              "\n",
              "function displayQuickchartButton(domScope) {\n",
              "  let quickchartButtonEl =\n",
              "    domScope.querySelector('#df-8b4960d3-d61b-4c98-b7e8-53dcc79f29a4 button.colab-df-quickchart');\n",
              "  quickchartButtonEl.style.display =\n",
              "    google.colab.kernel.accessAllowed ? 'block' : 'none';\n",
              "}\n",
              "\n",
              "        displayQuickchartButton(document);\n",
              "      </script>\n",
              "      <style>\n",
              "    .colab-df-container {\n",
              "      display:flex;\n",
              "      flex-wrap:wrap;\n",
              "      gap: 12px;\n",
              "    }\n",
              "\n",
              "    .colab-df-convert {\n",
              "      background-color: #E8F0FE;\n",
              "      border: none;\n",
              "      border-radius: 50%;\n",
              "      cursor: pointer;\n",
              "      display: none;\n",
              "      fill: #1967D2;\n",
              "      height: 32px;\n",
              "      padding: 0 0 0 0;\n",
              "      width: 32px;\n",
              "    }\n",
              "\n",
              "    .colab-df-convert:hover {\n",
              "      background-color: #E2EBFA;\n",
              "      box-shadow: 0px 1px 2px rgba(60, 64, 67, 0.3), 0px 1px 3px 1px rgba(60, 64, 67, 0.15);\n",
              "      fill: #174EA6;\n",
              "    }\n",
              "\n",
              "    [theme=dark] .colab-df-convert {\n",
              "      background-color: #3B4455;\n",
              "      fill: #D2E3FC;\n",
              "    }\n",
              "\n",
              "    [theme=dark] .colab-df-convert:hover {\n",
              "      background-color: #434B5C;\n",
              "      box-shadow: 0px 1px 3px 1px rgba(0, 0, 0, 0.15);\n",
              "      filter: drop-shadow(0px 1px 2px rgba(0, 0, 0, 0.3));\n",
              "      fill: #FFFFFF;\n",
              "    }\n",
              "  </style>\n",
              "\n",
              "      <script>\n",
              "        const buttonEl =\n",
              "          document.querySelector('#df-cb191e88-56db-46f8-b029-86f02debe3b9 button.colab-df-convert');\n",
              "        buttonEl.style.display =\n",
              "          google.colab.kernel.accessAllowed ? 'block' : 'none';\n",
              "\n",
              "        async function convertToInteractive(key) {\n",
              "          const element = document.querySelector('#df-cb191e88-56db-46f8-b029-86f02debe3b9');\n",
              "          const dataTable =\n",
              "            await google.colab.kernel.invokeFunction('convertToInteractive',\n",
              "                                                     [key], {});\n",
              "          if (!dataTable) return;\n",
              "\n",
              "          const docLinkHtml = 'Like what you see? Visit the ' +\n",
              "            '<a target=\"_blank\" href=https://colab.research.google.com/notebooks/data_table.ipynb>data table notebook</a>'\n",
              "            + ' to learn more about interactive tables.';\n",
              "          element.innerHTML = '';\n",
              "          dataTable['output_type'] = 'display_data';\n",
              "          await google.colab.output.renderOutput(dataTable, element);\n",
              "          const docLink = document.createElement('div');\n",
              "          docLink.innerHTML = docLinkHtml;\n",
              "          element.appendChild(docLink);\n",
              "        }\n",
              "      </script>\n",
              "    </div>\n",
              "  </div>\n"
            ]
          },
          "metadata": {},
          "execution_count": 677
        }
      ]
    },
    {
      "cell_type": "code",
      "source": [
        "columns_to_drop = [\"Deposit facility\", \"Main refinancing operations\"]\n",
        "df_dropped = df.drop(columns=columns_to_drop)\n",
        "df_dropped.head()"
      ],
      "metadata": {
        "colab": {
          "base_uri": "https://localhost:8080/",
          "height": 238
        },
        "id": "yiXJAMYLU7tL",
        "outputId": "10812624-7535-4fac-a417-d37dc0f6d07a"
      },
      "execution_count": 678,
      "outputs": [
        {
          "output_type": "execute_result",
          "data": {
            "text/plain": [
              "  Date (with effect from)                    Marginal lending facility\n",
              "       Unnamed: 0_level_1 Unnamed: 1_level_1        Unnamed: 5_level_1\n",
              "0                    2023             2 Aug.                      4.50\n",
              "1                    2023            21 Jun.                      4.25\n",
              "2                    2023             10 May                      4.00\n",
              "3                    2023            22 Mar.                      3.75\n",
              "4                    2023             8 Feb.                      3.25"
            ],
            "text/html": [
              "\n",
              "\n",
              "  <div id=\"df-cf845ecc-c82a-4df2-a5e1-6a2315847064\">\n",
              "    <div class=\"colab-df-container\">\n",
              "      <div>\n",
              "<style scoped>\n",
              "    .dataframe tbody tr th:only-of-type {\n",
              "        vertical-align: middle;\n",
              "    }\n",
              "\n",
              "    .dataframe tbody tr th {\n",
              "        vertical-align: top;\n",
              "    }\n",
              "\n",
              "    .dataframe thead tr th {\n",
              "        text-align: left;\n",
              "    }\n",
              "</style>\n",
              "<table border=\"1\" class=\"dataframe\">\n",
              "  <thead>\n",
              "    <tr>\n",
              "      <th></th>\n",
              "      <th colspan=\"2\" halign=\"left\">Date (with effect from)</th>\n",
              "      <th>Marginal lending facility</th>\n",
              "    </tr>\n",
              "    <tr>\n",
              "      <th></th>\n",
              "      <th>Unnamed: 0_level_1</th>\n",
              "      <th>Unnamed: 1_level_1</th>\n",
              "      <th>Unnamed: 5_level_1</th>\n",
              "    </tr>\n",
              "  </thead>\n",
              "  <tbody>\n",
              "    <tr>\n",
              "      <th>0</th>\n",
              "      <td>2023</td>\n",
              "      <td>2 Aug.</td>\n",
              "      <td>4.50</td>\n",
              "    </tr>\n",
              "    <tr>\n",
              "      <th>1</th>\n",
              "      <td>2023</td>\n",
              "      <td>21 Jun.</td>\n",
              "      <td>4.25</td>\n",
              "    </tr>\n",
              "    <tr>\n",
              "      <th>2</th>\n",
              "      <td>2023</td>\n",
              "      <td>10 May</td>\n",
              "      <td>4.00</td>\n",
              "    </tr>\n",
              "    <tr>\n",
              "      <th>3</th>\n",
              "      <td>2023</td>\n",
              "      <td>22 Mar.</td>\n",
              "      <td>3.75</td>\n",
              "    </tr>\n",
              "    <tr>\n",
              "      <th>4</th>\n",
              "      <td>2023</td>\n",
              "      <td>8 Feb.</td>\n",
              "      <td>3.25</td>\n",
              "    </tr>\n",
              "  </tbody>\n",
              "</table>\n",
              "</div>\n",
              "      <button class=\"colab-df-convert\" onclick=\"convertToInteractive('df-cf845ecc-c82a-4df2-a5e1-6a2315847064')\"\n",
              "              title=\"Convert this dataframe to an interactive table.\"\n",
              "              style=\"display:none;\">\n",
              "\n",
              "  <svg xmlns=\"http://www.w3.org/2000/svg\" height=\"24px\"viewBox=\"0 0 24 24\"\n",
              "       width=\"24px\">\n",
              "    <path d=\"M0 0h24v24H0V0z\" fill=\"none\"/>\n",
              "    <path d=\"M18.56 5.44l.94 2.06.94-2.06 2.06-.94-2.06-.94-.94-2.06-.94 2.06-2.06.94zm-11 1L8.5 8.5l.94-2.06 2.06-.94-2.06-.94L8.5 2.5l-.94 2.06-2.06.94zm10 10l.94 2.06.94-2.06 2.06-.94-2.06-.94-.94-2.06-.94 2.06-2.06.94z\"/><path d=\"M17.41 7.96l-1.37-1.37c-.4-.4-.92-.59-1.43-.59-.52 0-1.04.2-1.43.59L10.3 9.45l-7.72 7.72c-.78.78-.78 2.05 0 2.83L4 21.41c.39.39.9.59 1.41.59.51 0 1.02-.2 1.41-.59l7.78-7.78 2.81-2.81c.8-.78.8-2.07 0-2.86zM5.41 20L4 18.59l7.72-7.72 1.47 1.35L5.41 20z\"/>\n",
              "  </svg>\n",
              "      </button>\n",
              "\n",
              "\n",
              "\n",
              "    <div id=\"df-3d583b8e-6f75-4cf9-8dec-d024161692b1\">\n",
              "      <button class=\"colab-df-quickchart\" onclick=\"quickchart('df-3d583b8e-6f75-4cf9-8dec-d024161692b1')\"\n",
              "              title=\"Suggest charts.\"\n",
              "              style=\"display:none;\">\n",
              "\n",
              "<svg xmlns=\"http://www.w3.org/2000/svg\" height=\"24px\"viewBox=\"0 0 24 24\"\n",
              "     width=\"24px\">\n",
              "    <g>\n",
              "        <path d=\"M19 3H5c-1.1 0-2 .9-2 2v14c0 1.1.9 2 2 2h14c1.1 0 2-.9 2-2V5c0-1.1-.9-2-2-2zM9 17H7v-7h2v7zm4 0h-2V7h2v10zm4 0h-2v-4h2v4z\"/>\n",
              "    </g>\n",
              "</svg>\n",
              "      </button>\n",
              "    </div>\n",
              "\n",
              "<style>\n",
              "  .colab-df-quickchart {\n",
              "    background-color: #E8F0FE;\n",
              "    border: none;\n",
              "    border-radius: 50%;\n",
              "    cursor: pointer;\n",
              "    display: none;\n",
              "    fill: #1967D2;\n",
              "    height: 32px;\n",
              "    padding: 0 0 0 0;\n",
              "    width: 32px;\n",
              "  }\n",
              "\n",
              "  .colab-df-quickchart:hover {\n",
              "    background-color: #E2EBFA;\n",
              "    box-shadow: 0px 1px 2px rgba(60, 64, 67, 0.3), 0px 1px 3px 1px rgba(60, 64, 67, 0.15);\n",
              "    fill: #174EA6;\n",
              "  }\n",
              "\n",
              "  [theme=dark] .colab-df-quickchart {\n",
              "    background-color: #3B4455;\n",
              "    fill: #D2E3FC;\n",
              "  }\n",
              "\n",
              "  [theme=dark] .colab-df-quickchart:hover {\n",
              "    background-color: #434B5C;\n",
              "    box-shadow: 0px 1px 3px 1px rgba(0, 0, 0, 0.15);\n",
              "    filter: drop-shadow(0px 1px 2px rgba(0, 0, 0, 0.3));\n",
              "    fill: #FFFFFF;\n",
              "  }\n",
              "</style>\n",
              "\n",
              "    <script>\n",
              "      async function quickchart(key) {\n",
              "        const containerElement = document.querySelector('#' + key);\n",
              "        const charts = await google.colab.kernel.invokeFunction(\n",
              "            'suggestCharts', [key], {});\n",
              "      }\n",
              "    </script>\n",
              "\n",
              "      <script>\n",
              "\n",
              "function displayQuickchartButton(domScope) {\n",
              "  let quickchartButtonEl =\n",
              "    domScope.querySelector('#df-3d583b8e-6f75-4cf9-8dec-d024161692b1 button.colab-df-quickchart');\n",
              "  quickchartButtonEl.style.display =\n",
              "    google.colab.kernel.accessAllowed ? 'block' : 'none';\n",
              "}\n",
              "\n",
              "        displayQuickchartButton(document);\n",
              "      </script>\n",
              "      <style>\n",
              "    .colab-df-container {\n",
              "      display:flex;\n",
              "      flex-wrap:wrap;\n",
              "      gap: 12px;\n",
              "    }\n",
              "\n",
              "    .colab-df-convert {\n",
              "      background-color: #E8F0FE;\n",
              "      border: none;\n",
              "      border-radius: 50%;\n",
              "      cursor: pointer;\n",
              "      display: none;\n",
              "      fill: #1967D2;\n",
              "      height: 32px;\n",
              "      padding: 0 0 0 0;\n",
              "      width: 32px;\n",
              "    }\n",
              "\n",
              "    .colab-df-convert:hover {\n",
              "      background-color: #E2EBFA;\n",
              "      box-shadow: 0px 1px 2px rgba(60, 64, 67, 0.3), 0px 1px 3px 1px rgba(60, 64, 67, 0.15);\n",
              "      fill: #174EA6;\n",
              "    }\n",
              "\n",
              "    [theme=dark] .colab-df-convert {\n",
              "      background-color: #3B4455;\n",
              "      fill: #D2E3FC;\n",
              "    }\n",
              "\n",
              "    [theme=dark] .colab-df-convert:hover {\n",
              "      background-color: #434B5C;\n",
              "      box-shadow: 0px 1px 3px 1px rgba(0, 0, 0, 0.15);\n",
              "      filter: drop-shadow(0px 1px 2px rgba(0, 0, 0, 0.3));\n",
              "      fill: #FFFFFF;\n",
              "    }\n",
              "  </style>\n",
              "\n",
              "      <script>\n",
              "        const buttonEl =\n",
              "          document.querySelector('#df-cf845ecc-c82a-4df2-a5e1-6a2315847064 button.colab-df-convert');\n",
              "        buttonEl.style.display =\n",
              "          google.colab.kernel.accessAllowed ? 'block' : 'none';\n",
              "\n",
              "        async function convertToInteractive(key) {\n",
              "          const element = document.querySelector('#df-cf845ecc-c82a-4df2-a5e1-6a2315847064');\n",
              "          const dataTable =\n",
              "            await google.colab.kernel.invokeFunction('convertToInteractive',\n",
              "                                                     [key], {});\n",
              "          if (!dataTable) return;\n",
              "\n",
              "          const docLinkHtml = 'Like what you see? Visit the ' +\n",
              "            '<a target=\"_blank\" href=https://colab.research.google.com/notebooks/data_table.ipynb>data table notebook</a>'\n",
              "            + ' to learn more about interactive tables.';\n",
              "          element.innerHTML = '';\n",
              "          dataTable['output_type'] = 'display_data';\n",
              "          await google.colab.output.renderOutput(dataTable, element);\n",
              "          const docLink = document.createElement('div');\n",
              "          docLink.innerHTML = docLinkHtml;\n",
              "          element.appendChild(docLink);\n",
              "        }\n",
              "      </script>\n",
              "    </div>\n",
              "  </div>\n"
            ]
          },
          "metadata": {},
          "execution_count": 678
        }
      ]
    },
    {
      "cell_type": "code",
      "source": [
        "df_keep = pd.DataFrame(df_dropped)\n",
        "\n",
        "# Flatten the multi-level column headers\n",
        "df_keep.columns = df_keep.columns.map('_'.join)\n",
        "\n",
        "# Select the specific columns you want\n",
        "desired_columns = [\"Date (with effect from)_Unnamed: 0_level_1\", \"Date (with effect from)_Unnamed: 1_level_1\", \"Marginal lending facility_Unnamed: 5_level_1\"]\n",
        "filtered_df = df_keep[desired_columns]\n"
      ],
      "metadata": {
        "id": "odt407WPVMzC"
      },
      "execution_count": 679,
      "outputs": []
    },
    {
      "cell_type": "code",
      "source": [
        "df_interest= pd.DataFrame(filtered_df)"
      ],
      "metadata": {
        "id": "m3OL_8FxWYpb"
      },
      "execution_count": 680,
      "outputs": []
    },
    {
      "cell_type": "code",
      "source": [
        "column_name = 'Date (with effect from)_Unnamed: 1_level_1'\n",
        "pattern_to_remove = r'\\.\\d$|\\.$|\\.\\s\\d$'  # Regular expression to match \".#\" at the end of a string\n",
        "\n",
        "df_interest[column_name] = df_interest[column_name].str.replace(pattern_to_remove, '')"
      ],
      "metadata": {
        "colab": {
          "base_uri": "https://localhost:8080/"
        },
        "id": "SYd4xNl1IUjo",
        "outputId": "6538dc24-237f-4780-8b8f-2535b2006572"
      },
      "execution_count": 681,
      "outputs": [
        {
          "output_type": "stream",
          "name": "stderr",
          "text": [
            "<ipython-input-681-046c6def6dba>:4: FutureWarning: The default value of regex will change from True to False in a future version.\n",
            "  df_interest[column_name] = df_interest[column_name].str.replace(pattern_to_remove, '')\n"
          ]
        }
      ]
    },
    {
      "cell_type": "code",
      "source": [
        "df_interest = df_interest.fillna(method='ffill')"
      ],
      "metadata": {
        "id": "XublBs5u4CCN"
      },
      "execution_count": 682,
      "outputs": []
    },
    {
      "cell_type": "code",
      "source": [
        "df_interest['Combined']=df_interest['Date (with effect from)_Unnamed: 1_level_1'] + \" \"+ df_interest['Date (with effect from)_Unnamed: 0_level_1']\n",
        "df_interest.head()"
      ],
      "metadata": {
        "colab": {
          "base_uri": "https://localhost:8080/",
          "height": 206
        },
        "id": "ARONWIjxpJ9T",
        "outputId": "e47f97e4-beee-4aa2-b830-fa96f3f810ad"
      },
      "execution_count": 683,
      "outputs": [
        {
          "output_type": "execute_result",
          "data": {
            "text/plain": [
              "  Date (with effect from)_Unnamed: 0_level_1  \\\n",
              "0                                       2023   \n",
              "1                                       2023   \n",
              "2                                       2023   \n",
              "3                                       2023   \n",
              "4                                       2023   \n",
              "\n",
              "  Date (with effect from)_Unnamed: 1_level_1  \\\n",
              "0                                      2 Aug   \n",
              "1                                     21 Jun   \n",
              "2                                     10 May   \n",
              "3                                     22 Mar   \n",
              "4                                      8 Feb   \n",
              "\n",
              "  Marginal lending facility_Unnamed: 5_level_1     Combined  \n",
              "0                                         4.50   2 Aug 2023  \n",
              "1                                         4.25  21 Jun 2023  \n",
              "2                                         4.00  10 May 2023  \n",
              "3                                         3.75  22 Mar 2023  \n",
              "4                                         3.25   8 Feb 2023  "
            ],
            "text/html": [
              "\n",
              "\n",
              "  <div id=\"df-1ab38aac-6a8b-4135-a245-66585fd82801\">\n",
              "    <div class=\"colab-df-container\">\n",
              "      <div>\n",
              "<style scoped>\n",
              "    .dataframe tbody tr th:only-of-type {\n",
              "        vertical-align: middle;\n",
              "    }\n",
              "\n",
              "    .dataframe tbody tr th {\n",
              "        vertical-align: top;\n",
              "    }\n",
              "\n",
              "    .dataframe thead th {\n",
              "        text-align: right;\n",
              "    }\n",
              "</style>\n",
              "<table border=\"1\" class=\"dataframe\">\n",
              "  <thead>\n",
              "    <tr style=\"text-align: right;\">\n",
              "      <th></th>\n",
              "      <th>Date (with effect from)_Unnamed: 0_level_1</th>\n",
              "      <th>Date (with effect from)_Unnamed: 1_level_1</th>\n",
              "      <th>Marginal lending facility_Unnamed: 5_level_1</th>\n",
              "      <th>Combined</th>\n",
              "    </tr>\n",
              "  </thead>\n",
              "  <tbody>\n",
              "    <tr>\n",
              "      <th>0</th>\n",
              "      <td>2023</td>\n",
              "      <td>2 Aug</td>\n",
              "      <td>4.50</td>\n",
              "      <td>2 Aug 2023</td>\n",
              "    </tr>\n",
              "    <tr>\n",
              "      <th>1</th>\n",
              "      <td>2023</td>\n",
              "      <td>21 Jun</td>\n",
              "      <td>4.25</td>\n",
              "      <td>21 Jun 2023</td>\n",
              "    </tr>\n",
              "    <tr>\n",
              "      <th>2</th>\n",
              "      <td>2023</td>\n",
              "      <td>10 May</td>\n",
              "      <td>4.00</td>\n",
              "      <td>10 May 2023</td>\n",
              "    </tr>\n",
              "    <tr>\n",
              "      <th>3</th>\n",
              "      <td>2023</td>\n",
              "      <td>22 Mar</td>\n",
              "      <td>3.75</td>\n",
              "      <td>22 Mar 2023</td>\n",
              "    </tr>\n",
              "    <tr>\n",
              "      <th>4</th>\n",
              "      <td>2023</td>\n",
              "      <td>8 Feb</td>\n",
              "      <td>3.25</td>\n",
              "      <td>8 Feb 2023</td>\n",
              "    </tr>\n",
              "  </tbody>\n",
              "</table>\n",
              "</div>\n",
              "      <button class=\"colab-df-convert\" onclick=\"convertToInteractive('df-1ab38aac-6a8b-4135-a245-66585fd82801')\"\n",
              "              title=\"Convert this dataframe to an interactive table.\"\n",
              "              style=\"display:none;\">\n",
              "\n",
              "  <svg xmlns=\"http://www.w3.org/2000/svg\" height=\"24px\"viewBox=\"0 0 24 24\"\n",
              "       width=\"24px\">\n",
              "    <path d=\"M0 0h24v24H0V0z\" fill=\"none\"/>\n",
              "    <path d=\"M18.56 5.44l.94 2.06.94-2.06 2.06-.94-2.06-.94-.94-2.06-.94 2.06-2.06.94zm-11 1L8.5 8.5l.94-2.06 2.06-.94-2.06-.94L8.5 2.5l-.94 2.06-2.06.94zm10 10l.94 2.06.94-2.06 2.06-.94-2.06-.94-.94-2.06-.94 2.06-2.06.94z\"/><path d=\"M17.41 7.96l-1.37-1.37c-.4-.4-.92-.59-1.43-.59-.52 0-1.04.2-1.43.59L10.3 9.45l-7.72 7.72c-.78.78-.78 2.05 0 2.83L4 21.41c.39.39.9.59 1.41.59.51 0 1.02-.2 1.41-.59l7.78-7.78 2.81-2.81c.8-.78.8-2.07 0-2.86zM5.41 20L4 18.59l7.72-7.72 1.47 1.35L5.41 20z\"/>\n",
              "  </svg>\n",
              "      </button>\n",
              "\n",
              "\n",
              "\n",
              "    <div id=\"df-83878427-ec36-454b-89db-6ade23d2a0f7\">\n",
              "      <button class=\"colab-df-quickchart\" onclick=\"quickchart('df-83878427-ec36-454b-89db-6ade23d2a0f7')\"\n",
              "              title=\"Suggest charts.\"\n",
              "              style=\"display:none;\">\n",
              "\n",
              "<svg xmlns=\"http://www.w3.org/2000/svg\" height=\"24px\"viewBox=\"0 0 24 24\"\n",
              "     width=\"24px\">\n",
              "    <g>\n",
              "        <path d=\"M19 3H5c-1.1 0-2 .9-2 2v14c0 1.1.9 2 2 2h14c1.1 0 2-.9 2-2V5c0-1.1-.9-2-2-2zM9 17H7v-7h2v7zm4 0h-2V7h2v10zm4 0h-2v-4h2v4z\"/>\n",
              "    </g>\n",
              "</svg>\n",
              "      </button>\n",
              "    </div>\n",
              "\n",
              "<style>\n",
              "  .colab-df-quickchart {\n",
              "    background-color: #E8F0FE;\n",
              "    border: none;\n",
              "    border-radius: 50%;\n",
              "    cursor: pointer;\n",
              "    display: none;\n",
              "    fill: #1967D2;\n",
              "    height: 32px;\n",
              "    padding: 0 0 0 0;\n",
              "    width: 32px;\n",
              "  }\n",
              "\n",
              "  .colab-df-quickchart:hover {\n",
              "    background-color: #E2EBFA;\n",
              "    box-shadow: 0px 1px 2px rgba(60, 64, 67, 0.3), 0px 1px 3px 1px rgba(60, 64, 67, 0.15);\n",
              "    fill: #174EA6;\n",
              "  }\n",
              "\n",
              "  [theme=dark] .colab-df-quickchart {\n",
              "    background-color: #3B4455;\n",
              "    fill: #D2E3FC;\n",
              "  }\n",
              "\n",
              "  [theme=dark] .colab-df-quickchart:hover {\n",
              "    background-color: #434B5C;\n",
              "    box-shadow: 0px 1px 3px 1px rgba(0, 0, 0, 0.15);\n",
              "    filter: drop-shadow(0px 1px 2px rgba(0, 0, 0, 0.3));\n",
              "    fill: #FFFFFF;\n",
              "  }\n",
              "</style>\n",
              "\n",
              "    <script>\n",
              "      async function quickchart(key) {\n",
              "        const containerElement = document.querySelector('#' + key);\n",
              "        const charts = await google.colab.kernel.invokeFunction(\n",
              "            'suggestCharts', [key], {});\n",
              "      }\n",
              "    </script>\n",
              "\n",
              "      <script>\n",
              "\n",
              "function displayQuickchartButton(domScope) {\n",
              "  let quickchartButtonEl =\n",
              "    domScope.querySelector('#df-83878427-ec36-454b-89db-6ade23d2a0f7 button.colab-df-quickchart');\n",
              "  quickchartButtonEl.style.display =\n",
              "    google.colab.kernel.accessAllowed ? 'block' : 'none';\n",
              "}\n",
              "\n",
              "        displayQuickchartButton(document);\n",
              "      </script>\n",
              "      <style>\n",
              "    .colab-df-container {\n",
              "      display:flex;\n",
              "      flex-wrap:wrap;\n",
              "      gap: 12px;\n",
              "    }\n",
              "\n",
              "    .colab-df-convert {\n",
              "      background-color: #E8F0FE;\n",
              "      border: none;\n",
              "      border-radius: 50%;\n",
              "      cursor: pointer;\n",
              "      display: none;\n",
              "      fill: #1967D2;\n",
              "      height: 32px;\n",
              "      padding: 0 0 0 0;\n",
              "      width: 32px;\n",
              "    }\n",
              "\n",
              "    .colab-df-convert:hover {\n",
              "      background-color: #E2EBFA;\n",
              "      box-shadow: 0px 1px 2px rgba(60, 64, 67, 0.3), 0px 1px 3px 1px rgba(60, 64, 67, 0.15);\n",
              "      fill: #174EA6;\n",
              "    }\n",
              "\n",
              "    [theme=dark] .colab-df-convert {\n",
              "      background-color: #3B4455;\n",
              "      fill: #D2E3FC;\n",
              "    }\n",
              "\n",
              "    [theme=dark] .colab-df-convert:hover {\n",
              "      background-color: #434B5C;\n",
              "      box-shadow: 0px 1px 3px 1px rgba(0, 0, 0, 0.15);\n",
              "      filter: drop-shadow(0px 1px 2px rgba(0, 0, 0, 0.3));\n",
              "      fill: #FFFFFF;\n",
              "    }\n",
              "  </style>\n",
              "\n",
              "      <script>\n",
              "        const buttonEl =\n",
              "          document.querySelector('#df-1ab38aac-6a8b-4135-a245-66585fd82801 button.colab-df-convert');\n",
              "        buttonEl.style.display =\n",
              "          google.colab.kernel.accessAllowed ? 'block' : 'none';\n",
              "\n",
              "        async function convertToInteractive(key) {\n",
              "          const element = document.querySelector('#df-1ab38aac-6a8b-4135-a245-66585fd82801');\n",
              "          const dataTable =\n",
              "            await google.colab.kernel.invokeFunction('convertToInteractive',\n",
              "                                                     [key], {});\n",
              "          if (!dataTable) return;\n",
              "\n",
              "          const docLinkHtml = 'Like what you see? Visit the ' +\n",
              "            '<a target=\"_blank\" href=https://colab.research.google.com/notebooks/data_table.ipynb>data table notebook</a>'\n",
              "            + ' to learn more about interactive tables.';\n",
              "          element.innerHTML = '';\n",
              "          dataTable['output_type'] = 'display_data';\n",
              "          await google.colab.output.renderOutput(dataTable, element);\n",
              "          const docLink = document.createElement('div');\n",
              "          docLink.innerHTML = docLinkHtml;\n",
              "          element.appendChild(docLink);\n",
              "        }\n",
              "      </script>\n",
              "    </div>\n",
              "  </div>\n"
            ]
          },
          "metadata": {},
          "execution_count": 683
        }
      ]
    },
    {
      "cell_type": "code",
      "source": [
        "columns_to_drop = ['Date (with effect from)_Unnamed: 0_level_1', 'Date (with effect from)_Unnamed: 1_level_1']\n",
        "df_dropped = df_interest.drop(columns=columns_to_drop)"
      ],
      "metadata": {
        "id": "YVPlbtMluIXC"
      },
      "execution_count": 684,
      "outputs": []
    },
    {
      "cell_type": "code",
      "source": [
        "df_dropped.rename(columns={'Marginal lending facility_Unnamed: 5_level_1': 'ECB_INTEREST_RATE'}, inplace=True)\n",
        "df_dropped.rename(columns={'Combined': 'DATE_INTEREST_RATE'}, inplace=True)\n",
        "df_dropped.head()"
      ],
      "metadata": {
        "colab": {
          "base_uri": "https://localhost:8080/",
          "height": 206
        },
        "id": "_RH508u7uamh",
        "outputId": "c19b12fa-3802-4d07-f1da-38b88549d173"
      },
      "execution_count": 685,
      "outputs": [
        {
          "output_type": "execute_result",
          "data": {
            "text/plain": [
              "  ECB_INTEREST_RATE DATE_INTEREST_RATE\n",
              "0              4.50         2 Aug 2023\n",
              "1              4.25        21 Jun 2023\n",
              "2              4.00        10 May 2023\n",
              "3              3.75        22 Mar 2023\n",
              "4              3.25         8 Feb 2023"
            ],
            "text/html": [
              "\n",
              "\n",
              "  <div id=\"df-20e2ee08-078d-4c1a-a447-acccfd7ff9b5\">\n",
              "    <div class=\"colab-df-container\">\n",
              "      <div>\n",
              "<style scoped>\n",
              "    .dataframe tbody tr th:only-of-type {\n",
              "        vertical-align: middle;\n",
              "    }\n",
              "\n",
              "    .dataframe tbody tr th {\n",
              "        vertical-align: top;\n",
              "    }\n",
              "\n",
              "    .dataframe thead th {\n",
              "        text-align: right;\n",
              "    }\n",
              "</style>\n",
              "<table border=\"1\" class=\"dataframe\">\n",
              "  <thead>\n",
              "    <tr style=\"text-align: right;\">\n",
              "      <th></th>\n",
              "      <th>ECB_INTEREST_RATE</th>\n",
              "      <th>DATE_INTEREST_RATE</th>\n",
              "    </tr>\n",
              "  </thead>\n",
              "  <tbody>\n",
              "    <tr>\n",
              "      <th>0</th>\n",
              "      <td>4.50</td>\n",
              "      <td>2 Aug 2023</td>\n",
              "    </tr>\n",
              "    <tr>\n",
              "      <th>1</th>\n",
              "      <td>4.25</td>\n",
              "      <td>21 Jun 2023</td>\n",
              "    </tr>\n",
              "    <tr>\n",
              "      <th>2</th>\n",
              "      <td>4.00</td>\n",
              "      <td>10 May 2023</td>\n",
              "    </tr>\n",
              "    <tr>\n",
              "      <th>3</th>\n",
              "      <td>3.75</td>\n",
              "      <td>22 Mar 2023</td>\n",
              "    </tr>\n",
              "    <tr>\n",
              "      <th>4</th>\n",
              "      <td>3.25</td>\n",
              "      <td>8 Feb 2023</td>\n",
              "    </tr>\n",
              "  </tbody>\n",
              "</table>\n",
              "</div>\n",
              "      <button class=\"colab-df-convert\" onclick=\"convertToInteractive('df-20e2ee08-078d-4c1a-a447-acccfd7ff9b5')\"\n",
              "              title=\"Convert this dataframe to an interactive table.\"\n",
              "              style=\"display:none;\">\n",
              "\n",
              "  <svg xmlns=\"http://www.w3.org/2000/svg\" height=\"24px\"viewBox=\"0 0 24 24\"\n",
              "       width=\"24px\">\n",
              "    <path d=\"M0 0h24v24H0V0z\" fill=\"none\"/>\n",
              "    <path d=\"M18.56 5.44l.94 2.06.94-2.06 2.06-.94-2.06-.94-.94-2.06-.94 2.06-2.06.94zm-11 1L8.5 8.5l.94-2.06 2.06-.94-2.06-.94L8.5 2.5l-.94 2.06-2.06.94zm10 10l.94 2.06.94-2.06 2.06-.94-2.06-.94-.94-2.06-.94 2.06-2.06.94z\"/><path d=\"M17.41 7.96l-1.37-1.37c-.4-.4-.92-.59-1.43-.59-.52 0-1.04.2-1.43.59L10.3 9.45l-7.72 7.72c-.78.78-.78 2.05 0 2.83L4 21.41c.39.39.9.59 1.41.59.51 0 1.02-.2 1.41-.59l7.78-7.78 2.81-2.81c.8-.78.8-2.07 0-2.86zM5.41 20L4 18.59l7.72-7.72 1.47 1.35L5.41 20z\"/>\n",
              "  </svg>\n",
              "      </button>\n",
              "\n",
              "\n",
              "\n",
              "    <div id=\"df-03c70739-17f4-4d6d-8dbc-2f52a29b45ba\">\n",
              "      <button class=\"colab-df-quickchart\" onclick=\"quickchart('df-03c70739-17f4-4d6d-8dbc-2f52a29b45ba')\"\n",
              "              title=\"Suggest charts.\"\n",
              "              style=\"display:none;\">\n",
              "\n",
              "<svg xmlns=\"http://www.w3.org/2000/svg\" height=\"24px\"viewBox=\"0 0 24 24\"\n",
              "     width=\"24px\">\n",
              "    <g>\n",
              "        <path d=\"M19 3H5c-1.1 0-2 .9-2 2v14c0 1.1.9 2 2 2h14c1.1 0 2-.9 2-2V5c0-1.1-.9-2-2-2zM9 17H7v-7h2v7zm4 0h-2V7h2v10zm4 0h-2v-4h2v4z\"/>\n",
              "    </g>\n",
              "</svg>\n",
              "      </button>\n",
              "    </div>\n",
              "\n",
              "<style>\n",
              "  .colab-df-quickchart {\n",
              "    background-color: #E8F0FE;\n",
              "    border: none;\n",
              "    border-radius: 50%;\n",
              "    cursor: pointer;\n",
              "    display: none;\n",
              "    fill: #1967D2;\n",
              "    height: 32px;\n",
              "    padding: 0 0 0 0;\n",
              "    width: 32px;\n",
              "  }\n",
              "\n",
              "  .colab-df-quickchart:hover {\n",
              "    background-color: #E2EBFA;\n",
              "    box-shadow: 0px 1px 2px rgba(60, 64, 67, 0.3), 0px 1px 3px 1px rgba(60, 64, 67, 0.15);\n",
              "    fill: #174EA6;\n",
              "  }\n",
              "\n",
              "  [theme=dark] .colab-df-quickchart {\n",
              "    background-color: #3B4455;\n",
              "    fill: #D2E3FC;\n",
              "  }\n",
              "\n",
              "  [theme=dark] .colab-df-quickchart:hover {\n",
              "    background-color: #434B5C;\n",
              "    box-shadow: 0px 1px 3px 1px rgba(0, 0, 0, 0.15);\n",
              "    filter: drop-shadow(0px 1px 2px rgba(0, 0, 0, 0.3));\n",
              "    fill: #FFFFFF;\n",
              "  }\n",
              "</style>\n",
              "\n",
              "    <script>\n",
              "      async function quickchart(key) {\n",
              "        const containerElement = document.querySelector('#' + key);\n",
              "        const charts = await google.colab.kernel.invokeFunction(\n",
              "            'suggestCharts', [key], {});\n",
              "      }\n",
              "    </script>\n",
              "\n",
              "      <script>\n",
              "\n",
              "function displayQuickchartButton(domScope) {\n",
              "  let quickchartButtonEl =\n",
              "    domScope.querySelector('#df-03c70739-17f4-4d6d-8dbc-2f52a29b45ba button.colab-df-quickchart');\n",
              "  quickchartButtonEl.style.display =\n",
              "    google.colab.kernel.accessAllowed ? 'block' : 'none';\n",
              "}\n",
              "\n",
              "        displayQuickchartButton(document);\n",
              "      </script>\n",
              "      <style>\n",
              "    .colab-df-container {\n",
              "      display:flex;\n",
              "      flex-wrap:wrap;\n",
              "      gap: 12px;\n",
              "    }\n",
              "\n",
              "    .colab-df-convert {\n",
              "      background-color: #E8F0FE;\n",
              "      border: none;\n",
              "      border-radius: 50%;\n",
              "      cursor: pointer;\n",
              "      display: none;\n",
              "      fill: #1967D2;\n",
              "      height: 32px;\n",
              "      padding: 0 0 0 0;\n",
              "      width: 32px;\n",
              "    }\n",
              "\n",
              "    .colab-df-convert:hover {\n",
              "      background-color: #E2EBFA;\n",
              "      box-shadow: 0px 1px 2px rgba(60, 64, 67, 0.3), 0px 1px 3px 1px rgba(60, 64, 67, 0.15);\n",
              "      fill: #174EA6;\n",
              "    }\n",
              "\n",
              "    [theme=dark] .colab-df-convert {\n",
              "      background-color: #3B4455;\n",
              "      fill: #D2E3FC;\n",
              "    }\n",
              "\n",
              "    [theme=dark] .colab-df-convert:hover {\n",
              "      background-color: #434B5C;\n",
              "      box-shadow: 0px 1px 3px 1px rgba(0, 0, 0, 0.15);\n",
              "      filter: drop-shadow(0px 1px 2px rgba(0, 0, 0, 0.3));\n",
              "      fill: #FFFFFF;\n",
              "    }\n",
              "  </style>\n",
              "\n",
              "      <script>\n",
              "        const buttonEl =\n",
              "          document.querySelector('#df-20e2ee08-078d-4c1a-a447-acccfd7ff9b5 button.colab-df-convert');\n",
              "        buttonEl.style.display =\n",
              "          google.colab.kernel.accessAllowed ? 'block' : 'none';\n",
              "\n",
              "        async function convertToInteractive(key) {\n",
              "          const element = document.querySelector('#df-20e2ee08-078d-4c1a-a447-acccfd7ff9b5');\n",
              "          const dataTable =\n",
              "            await google.colab.kernel.invokeFunction('convertToInteractive',\n",
              "                                                     [key], {});\n",
              "          if (!dataTable) return;\n",
              "\n",
              "          const docLinkHtml = 'Like what you see? Visit the ' +\n",
              "            '<a target=\"_blank\" href=https://colab.research.google.com/notebooks/data_table.ipynb>data table notebook</a>'\n",
              "            + ' to learn more about interactive tables.';\n",
              "          element.innerHTML = '';\n",
              "          dataTable['output_type'] = 'display_data';\n",
              "          await google.colab.output.renderOutput(dataTable, element);\n",
              "          const docLink = document.createElement('div');\n",
              "          docLink.innerHTML = docLinkHtml;\n",
              "          element.appendChild(docLink);\n",
              "        }\n",
              "      </script>\n",
              "    </div>\n",
              "  </div>\n"
            ]
          },
          "metadata": {},
          "execution_count": 685
        }
      ]
    },
    {
      "cell_type": "code",
      "source": [
        "df_dropped.dtypes"
      ],
      "metadata": {
        "colab": {
          "base_uri": "https://localhost:8080/"
        },
        "id": "lmyRyhJTu0tl",
        "outputId": "4e887e98-d88e-4013-8f19-443a0bab42cf"
      },
      "execution_count": 686,
      "outputs": [
        {
          "output_type": "execute_result",
          "data": {
            "text/plain": [
              "ECB_INTEREST_RATE     object\n",
              "DATE_INTEREST_RATE    object\n",
              "dtype: object"
            ]
          },
          "metadata": {},
          "execution_count": 686
        }
      ]
    },
    {
      "cell_type": "code",
      "source": [
        "df_interest_rate = df_dropped.drop(index=df_dropped.index[-2:])"
      ],
      "metadata": {
        "id": "_OskAvDR48Mr"
      },
      "execution_count": 687,
      "outputs": []
    },
    {
      "cell_type": "code",
      "source": [
        "df_interest_rate['ECB_INTEREST_RATE'] = df_interest_rate['ECB_INTEREST_RATE'].astype(float)\n",
        "df_interest_rate.info()"
      ],
      "metadata": {
        "colab": {
          "base_uri": "https://localhost:8080/"
        },
        "id": "zPjzzxCr59Wq",
        "outputId": "aace690e-2030-416c-c2b3-5b24d3d76a2e"
      },
      "execution_count": 688,
      "outputs": [
        {
          "output_type": "stream",
          "name": "stdout",
          "text": [
            "<class 'pandas.core.frame.DataFrame'>\n",
            "RangeIndex: 58 entries, 0 to 57\n",
            "Data columns (total 2 columns):\n",
            " #   Column              Non-Null Count  Dtype  \n",
            "---  ------              --------------  -----  \n",
            " 0   ECB_INTEREST_RATE   58 non-null     float64\n",
            " 1   DATE_INTEREST_RATE  58 non-null     object \n",
            "dtypes: float64(1), object(1)\n",
            "memory usage: 1.0+ KB\n"
          ]
        }
      ]
    },
    {
      "cell_type": "code",
      "source": [
        "column_name = 'DATE_INTEREST_RATE'\n",
        "date_format = '%d %b %Y'  # Format to match \"2 Aug 2023\"\n",
        "\n",
        "df_interest_rate[column_name] = pd.to_datetime(df_interest_rate[column_name], format=date_format)\n",
        "df_interest_rate.info()"
      ],
      "metadata": {
        "colab": {
          "base_uri": "https://localhost:8080/"
        },
        "id": "4QMA4vodKoLU",
        "outputId": "cdd392ed-8e0e-4145-e603-637d4abc7947"
      },
      "execution_count": 689,
      "outputs": [
        {
          "output_type": "stream",
          "name": "stdout",
          "text": [
            "<class 'pandas.core.frame.DataFrame'>\n",
            "RangeIndex: 58 entries, 0 to 57\n",
            "Data columns (total 2 columns):\n",
            " #   Column              Non-Null Count  Dtype         \n",
            "---  ------              --------------  -----         \n",
            " 0   ECB_INTEREST_RATE   58 non-null     float64       \n",
            " 1   DATE_INTEREST_RATE  58 non-null     datetime64[ns]\n",
            "dtypes: datetime64[ns](1), float64(1)\n",
            "memory usage: 1.0 KB\n"
          ]
        }
      ]
    },
    {
      "cell_type": "code",
      "source": [
        "min_date = df_house['SALE_DATE'].min()\n",
        "max_date = df_house['SALE_DATE'].max()\n",
        "print(min_date)\n",
        "print(max_date)"
      ],
      "metadata": {
        "colab": {
          "base_uri": "https://localhost:8080/"
        },
        "id": "1D30TYfH29kD",
        "outputId": "b9345d40-ef88-4750-9a95-190fc79e42d0"
      },
      "execution_count": 690,
      "outputs": [
        {
          "output_type": "stream",
          "name": "stdout",
          "text": [
            "2010-01-01 00:00:00\n",
            "2021-05-28 00:00:00\n"
          ]
        }
      ]
    },
    {
      "cell_type": "code",
      "source": [
        "start_date = pd.to_datetime('2009-05-12')\n",
        "end_date = pd.to_datetime('2022-07-31')\n",
        "\n",
        "df_interest_rate = df_interest_rate[(df_interest_rate['DATE_INTEREST_RATE'] >= start_date) & (df_interest_rate['DATE_INTEREST_RATE'] <= end_date)]\n",
        "\n",
        "print(df_interest_rate)"
      ],
      "metadata": {
        "colab": {
          "base_uri": "https://localhost:8080/"
        },
        "id": "2vNAQTwj3qYt",
        "outputId": "c75b6d73-edc0-41b0-e06e-7208dc0e7589"
      },
      "execution_count": 691,
      "outputs": [
        {
          "output_type": "stream",
          "name": "stdout",
          "text": [
            "    ECB_INTEREST_RATE DATE_INTEREST_RATE\n",
            "8                0.75         2022-07-27\n",
            "9                0.25         2019-09-18\n",
            "10               0.25         2016-03-16\n",
            "11               0.30         2015-12-09\n",
            "12               0.30         2014-09-10\n",
            "13               0.40         2014-06-11\n",
            "14               0.75         2013-11-13\n",
            "15               1.00         2013-05-08\n",
            "16               1.50         2012-07-11\n",
            "17               1.75         2011-12-14\n",
            "18               2.00         2011-11-09\n",
            "19               2.25         2011-07-13\n",
            "20               2.00         2011-04-13\n",
            "21               1.75         2009-05-13\n"
          ]
        }
      ]
    },
    {
      "cell_type": "code",
      "source": [
        "df_house['month_year'] = df_house['SALE_DATE'].dt.to_period('M')\n",
        "df_interest_rate['month_year'] = df_interest_rate['DATE_INTEREST_RATE'].dt.to_period('M')"
      ],
      "metadata": {
        "id": "xEyy1rw9y7es"
      },
      "execution_count": 692,
      "outputs": []
    },
    {
      "cell_type": "code",
      "source": [
        "# Calculate monthly mean and median prices\n",
        "monthly_mean_prices = df_house.groupby('month_year')['SALE_PRICE'].mean()\n",
        "monthly_median_prices = df_house.groupby('month_year')['SALE_PRICE'].median()\n",
        "\n",
        "# Create a DataFrame for monthly median prices\n",
        "monthly_stats = pd.DataFrame({'month_year': monthly_median_prices.index, 'median_price': monthly_median_prices.values,'mean_price': monthly_mean_prices.values})\n",
        "\n",
        "# Concatenate the two DataFrames\n",
        "monthly_stats_df = pd.concat([headers_df, monthly_stats], axis=1)\n",
        "monthly_stats_df.drop(columns=['Month_Year','Median_Price'], inplace=True)\n",
        "# Print information about the resulting DataFrame\n",
        "print(monthly_stats_df.info())\n",
        "\n",
        "# Display the resulting DataFrame\n",
        "print(monthly_stats_df.head())"
      ],
      "metadata": {
        "colab": {
          "base_uri": "https://localhost:8080/"
        },
        "id": "Io8R7k151Dk3",
        "outputId": "4561998f-4014-4c44-911f-496cdb4e4231"
      },
      "execution_count": 693,
      "outputs": [
        {
          "output_type": "stream",
          "name": "stdout",
          "text": [
            "<class 'pandas.core.frame.DataFrame'>\n",
            "Index: 137 entries, 0 to 136\n",
            "Data columns (total 3 columns):\n",
            " #   Column        Non-Null Count  Dtype    \n",
            "---  ------        --------------  -----    \n",
            " 0   month_year    137 non-null    period[M]\n",
            " 1   median_price  137 non-null    float64  \n",
            " 2   mean_price    137 non-null    float64  \n",
            "dtypes: float64(2), period[M](1)\n",
            "memory usage: 4.3+ KB\n",
            "None\n",
            "  month_year  median_price     mean_price\n",
            "0    2010-01    220263.420  262482.281768\n",
            "1    2010-02    216000.000  262360.086718\n",
            "2    2010-03    210000.000  247859.892452\n",
            "3    2010-04    211453.365  245323.651606\n",
            "4    2010-05    203772.200  237789.409767\n"
          ]
        }
      ]
    },
    {
      "cell_type": "code",
      "source": [
        "monthly_stats_df['month_year_timestamp'] = monthly_stats_df['month_year'].astype(str)\n",
        "monthly_stats_df['month_year_timestamp'] = pd.to_datetime(monthly_stats_df['month_year_timestamp'])\n",
        "\n",
        "monthly_stats_df.info()"
      ],
      "metadata": {
        "colab": {
          "base_uri": "https://localhost:8080/"
        },
        "id": "Kt8Ip-e63ZuC",
        "outputId": "c676ee6f-da02-4859-e147-4bdee41a8172"
      },
      "execution_count": 697,
      "outputs": [
        {
          "output_type": "stream",
          "name": "stdout",
          "text": [
            "<class 'pandas.core.frame.DataFrame'>\n",
            "Index: 137 entries, 0 to 136\n",
            "Data columns (total 4 columns):\n",
            " #   Column                Non-Null Count  Dtype         \n",
            "---  ------                --------------  -----         \n",
            " 0   month_year            137 non-null    period[M]     \n",
            " 1   median_price          137 non-null    float64       \n",
            " 2   mean_price            137 non-null    float64       \n",
            " 3   month_year_timestamp  137 non-null    datetime64[ns]\n",
            "dtypes: datetime64[ns](1), float64(2), period[M](1)\n",
            "memory usage: 5.4+ KB\n"
          ]
        }
      ]
    },
    {
      "cell_type": "code",
      "source": [
        "# Create a line plot\n",
        "plt.figure(figsize=(10, 6))\n",
        "plt.plot(monthly_stats_df['month_year_timestamp'], monthly_stats_df['median_price'], marker='o', label='Median Price')\n",
        "plt.plot(monthly_stats_df['month_year_timestamp'], monthly_stats_df['mean_price'], marker='o', label='Mean Price')\n",
        "plt.title('Median and Mean Prices Over Time')\n",
        "plt.xlabel('Month-Year')\n",
        "plt.ylabel('Price')\n",
        "plt.legend()\n",
        "plt.grid(True)\n",
        "plt.tight_layout()\n",
        "\n",
        "# Create a secondary y-axis for the second plot\n",
        "ax1 = plt.gca()  # Get the current axes\n",
        "ax2 = ax1.twinx()  # Create a twin axes sharing the x-axis\n",
        "ax2.step(df_interest_rate['DATE_INTEREST_RATE'], df_interest_rate['ECB_INTEREST_RATE'], color='green', where='pre', label='ECB Interest Rates')\n",
        "ax2.set_ylabel('Interest Rate')\n",
        "\n",
        "# Combine legends from both plots\n",
        "lines1, labels1 = ax1.get_legend_handles_labels()\n",
        "lines2, labels2 = ax2.get_legend_handles_labels()\n",
        "ax1.legend(lines1 + lines2, labels1 + labels2, loc='upper left')\n",
        "\n",
        "# Show the plot\n",
        "plt.tight_layout()\n",
        "plt.show()"
      ],
      "metadata": {
        "colab": {
          "base_uri": "https://localhost:8080/",
          "height": 607
        },
        "id": "sqbhEm_E1fjT",
        "outputId": "efcc6c78-5c3b-4dd1-d5ce-e7e35fe63102"
      },
      "execution_count": 699,
      "outputs": [
        {
          "output_type": "display_data",
          "data": {
            "text/plain": [
              "<Figure size 1000x600 with 2 Axes>"
            ],
            "image/png": "[encoded data removed]"
          },
          "metadata": {}
        }
      ]
    },
    {
      "cell_type": "code",
      "source": [
        "# Create a line plot\n",
        "plt.figure(figsize=(10, 6))\n",
        "plt.plot(df['month_year'], df['median_price'], marker='o', label='Median Price')\n",
        "plt.plot(df['month_year'], df['mean_price'], marker='o', label='Mean Price')\n",
        "plt.title('Median and Mean Prices Over Time')\n",
        "plt.xlabel('Month-Year')\n",
        "plt.ylabel('Price')\n",
        "plt.legend()\n",
        "plt.grid(True)\n",
        "plt.tight_layout()\n",
        "\n",
        "# Create a secondary y-axis for the second plot\n",
        "ax1 = plt.gca()  # Get the current axes\n",
        "ax2 = ax1.twinx()  # Create a twin axes sharing the x-axis\n",
        "ax2.step(df_interest_rate['DATE_INTEREST_RATE'], df_interest_rate['ECB_INTEREST_RATE'], color='green', where='pre', label='ECB Interest Rates')\n",
        "ax2.set_ylabel('Interest Rate')\n",
        "\n",
        "# Combine legends from both plots\n",
        "lines1, labels1 = ax1.get_legend_handles_labels()\n",
        "lines2, labels2 = ax2.get_legend_handles_labels()\n",
        "ax1.legend(lines1 + lines2, labels1 + labels2, loc='upper left')\n",
        "\n",
        "# Show the plot\n",
        "plt.tight_layout()\n",
        "plt.show()"
      ],
      "metadata": {
        "id": "F3rrlSvv17Xm"
      },
      "execution_count": null,
      "outputs": []
    },
    {
      "cell_type": "code",
      "source": [
        "# Sort DataFrames by date columns\n",
        "df_house.sort_values(by='SALE_DATE', inplace=True)\n",
        "df_interest_rate.sort_values(by='DATE_INTEREST_RATE', inplace=True)\n",
        "\n",
        "# Forward fill missing values in interest rate DataFrame\n",
        "df_interest_rate['ECB_INTEREST_RATE'].ffill(inplace=True)\n",
        "\n",
        "# Merge DataFrames\n",
        "merged_df = pd.merge_asof(df_house, df_interest_rate, left_on='SALE_DATE', right_on='DATE_INTEREST_RATE', direction='backward')\n",
        "\n",
        "# Drop unnecessary columns\n",
        "merged_df.drop(columns='DATE_INTEREST_RATE', inplace=True)\n",
        "\n",
        "# Fill forward the ECB_INTEREST_RATE column in the merged DataFrame\n",
        "merged_df['ECB_INTEREST_RATE'].ffill(inplace=True)\n",
        "\n",
        "# Display the updated DataFrame\n",
        "merged_df.head()"
      ],
      "metadata": {
        "id": "UzUiqyJI7TxE"
      },
      "execution_count": null,
      "outputs": []
    },
    {
      "cell_type": "code",
      "source": [
        "merged_df.tail()"
      ],
      "metadata": {
        "id": "YDrKOnM7Fm5m"
      },
      "execution_count": null,
      "outputs": []
    },
    {
      "cell_type": "code",
      "source": [
        "columns_to_drop = ['POSTAL_CODE', 'IF_MARKET_PRICE','IF_VAT_EXCLUDED','PROPERTY_SIZE_DESC','month_year_y']\n",
        "merged_df.drop(columns=columns_to_drop, inplace=True)"
      ],
      "metadata": {
        "id": "W89wb736H73N"
      },
      "execution_count": null,
      "outputs": []
    },
    {
      "cell_type": "code",
      "source": [
        "merged_df.head()"
      ],
      "metadata": {
        "id": "sS4soGk3Imzk"
      },
      "execution_count": null,
      "outputs": []
    },
    {
      "cell_type": "code",
      "source": [
        "merged_df['year'] = df_house['SALE_DATE'].dt.year\n",
        "merged_df.head()"
      ],
      "metadata": {
        "id": "jbnuQ3TFI0jU"
      },
      "execution_count": null,
      "outputs": []
    },
    {
      "cell_type": "code",
      "source": [
        "print(merged_df['COUNTY'].unique())\n",
        "print(merged_df['PROPERTY_DESC'].unique())"
      ],
      "metadata": {
        "id": "hTLPdzHUJLBl"
      },
      "execution_count": null,
      "outputs": []
    },
    {
      "cell_type": "code",
      "source": [
        "# Define the replacement values and corresponding unique values to be replaced\n",
        "replacement_mapping = {\n",
        "    'Second-Hand Dwelling house /Apartment': 'Second Hand',\n",
        "    'Teach/�ras�n C�naithe Ath�imhe': 'Second Hand',  # Updated with correct encoded value\n",
        "    'New Dwelling house /Apartment': 'New',\n",
        "    'Teach/�ras�n C�naithe Nua': 'New',\n",
        "    'Teach/?ras?n C?naithe Nua': 'New'  # Updated with correct encoded value\n",
        "}\n",
        "\n",
        "# Replace values in the 'PROPERTY_DESC' column using the mapping\n",
        "merged_df['PROPERTY_DESC'] = merged_df['PROPERTY_DESC'].replace(replacement_mapping)\n",
        "print(merged_df['PROPERTY_DESC'].unique())"
      ],
      "metadata": {
        "id": "aWqf1yocN8yb"
      },
      "execution_count": null,
      "outputs": []
    },
    {
      "cell_type": "code",
      "source": [
        "import seaborn as sns"
      ],
      "metadata": {
        "id": "oqNgh64zk4Vq"
      },
      "execution_count": null,
      "outputs": []
    },
    {
      "cell_type": "code",
      "source": [
        "# Create a boxplot with outliers removed\n",
        "plt.figure(figsize=(10, 6))\n",
        "sns.boxplot(x='year', y='SALE_PRICE', data=merged_df, showfliers=False)\n",
        "plt.title('Boxplot by Year (Outliers Removed)')\n",
        "plt.xlabel('Year')\n",
        "plt.ylabel('Value')\n",
        "plt.grid(True)\n",
        "plt.tight_layout()\n",
        "\n",
        "# Show the plot\n",
        "plt.show()"
      ],
      "metadata": {
        "id": "rSHg08WYlPwP"
      },
      "execution_count": null,
      "outputs": []
    },
    {
      "cell_type": "code",
      "source": [
        "def county_boxplot(county_name):\n",
        "    county_data = merged_df[merged_df['COUNTY'] == county_name]\n",
        "\n",
        "    plt.figure(figsize=(10, 6))\n",
        "    sns.boxplot(x='year', y='SALE_PRICE', data=county_data, showfliers=False)\n",
        "    plt.title(f'Boxplot for {county_name} (Outliers Removed)')\n",
        "    plt.xlabel('Year')\n",
        "    plt.ylabel('Sale Price')\n",
        "    plt.grid(True)\n",
        "    plt.tight_layout()\n",
        "\n",
        "    plt.show()\n",
        "\n",
        "# Call the function with a specific county name\n",
        "county_boxplot('Leitrim')"
      ],
      "metadata": {
        "id": "QkDN9l7UwMuj"
      },
      "execution_count": null,
      "outputs": []
    },
    {
      "cell_type": "code",
      "source": [
        "# Sort the data by the count of each category\n",
        "sorted_df = merged_df['COUNTY'].value_counts().reset_index()\n",
        "sorted_df.columns = ['COUNTY', 'COUNT']\n",
        "\n",
        "# Create the histogram plot\n",
        "plt.figure(figsize=(10, 6))  # Set the figure size\n",
        "sns.barplot(data=sorted_df, x='COUNTY', y='COUNT')\n",
        "plt.xticks(rotation=90)  # Rotate x-axis labels by 90 degrees\n",
        "plt.xlabel('County')\n",
        "plt.ylabel('Count')\n",
        "plt.title('Distribution of Counties')\n",
        "plt.tight_layout()  # Adjust layout for better appearance\n",
        "plt.show()"
      ],
      "metadata": {
        "id": "9yW0a1yZ-K2d"
      },
      "execution_count": null,
      "outputs": []
    },
    {
      "cell_type": "code",
      "source": [
        "sns.heatmap(merged_df.corr(),annot = True)\n",
        "plt.show()"
      ],
      "metadata": {
        "id": "lq1orW5HCfhh"
      },
      "execution_count": null,
      "outputs": []
    },
    {
      "cell_type": "code",
      "source": [
        "start_date = pd.to_datetime('2009-04-14')\n",
        "end_date = pd.to_datetime('2022-08-01')\n",
        "\n",
        "# Generate a list of all months between start_date and end_date\n",
        "date_range = pd.date_range(start_date, end_date, freq='MS')\n",
        "\n",
        "# Convert the date_range to a DataFrame with a 'month_year' column\n",
        "df_month_year = pd.DataFrame({'month_year': date_range})\n",
        "\n",
        "# Convert 'month_year' to string to match the format in df_interest_rate\n",
        "df_month_year['month_year'] = df_month_year['month_year'].dt.strftime('%Y-%m')\n",
        "\n",
        "# Merge the new DataFrame with the existing df_interest_rate DataFrame based on 'month_year'\n",
        "df_interest_rate = pd.merge(df_interest_rate, df_month_year, left_on=df_interest_rate['DATE_INTEREST_RATE'].dt.strftime('%Y-%m'), right_on='month_year', how='right')\n",
        "\n",
        "# Drop the extra columns introduced by the merge\n",
        "df_interest_rate.drop(columns=['month_year_y'], inplace=True)\n",
        "df_interest_rate.drop(columns=['month_year_x'], inplace=True)\n",
        "df_interest_rate.drop(columns=['DATE_INTEREST_RATE'], inplace=True)\n",
        "\n",
        "df_interest_rate['ECB_INTEREST_RATE'] = df_interest_rate['ECB_INTEREST_RATE'].fillna(method='ffill')\n",
        "\n",
        "# Print the updated DataFrame\n",
        "print(df_interest_rate)\n",
        "df_interest_rate.dtypes"
      ],
      "metadata": {
        "id": "wiIYPVCTaWhc"
      },
      "execution_count": null,
      "outputs": []
    },
    {
      "cell_type": "code",
      "source": [
        "df_interest_rate['month_year'] = pd.to_datetime(df_interest_rate['month_year'])\n",
        "monthly_median_prices['month_year'] = pd.to_datetime(monthly_median_prices['month_year'])\n",
        "df_interest_rate['month_year'] = df_interest_rate['month_year'].dt.to_period('M')\n",
        "monthly_median_prices['month_year'] = monthly_median_prices['month_year'].dt.to_period('M')\n",
        "print(df_interest_rate)\n",
        "df_interest_rate.dtypes\n",
        "print(monthly_median_prices)\n",
        "monthly_median_prices.dtypes"
      ],
      "metadata": {
        "id": "GslPaNQRlGkq"
      },
      "execution_count": null,
      "outputs": []
    },
    {
      "cell_type": "code",
      "source": [
        "merged_median_interest_df = pd.merge(df_interest_rate, monthly_median_prices,on='month_year', how='right')\n",
        "print(merged_median_interest_df)"
      ],
      "metadata": {
        "id": "bB6QAfqbgR52"
      },
      "execution_count": null,
      "outputs": []
    }
  ]
}